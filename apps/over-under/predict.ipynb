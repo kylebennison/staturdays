{
 "cells": [
  {
   "cell_type": "code",
   "execution_count": 14,
   "metadata": {},
   "outputs": [],
   "source": [
    "import pickle\n",
    "import lightgbm as lgbm\n",
    "import pandas as pd\n",
    "from datetime import datetime\n",
    "import pytz\n",
    "\n",
    "run_type = \"predict\"\n",
    "\n",
    "exclude = [\n",
    "    \"id\",\n",
    "    \"year\",\n",
    "    \"week\",\n",
    "    \"season_type\",\n",
    "    \"start_date\",\n",
    "    \"completed\",\n",
    "    \"home_team\",\n",
    "    \"home_points\",\n",
    "    \"home_post_wp\",\n",
    "    \"away_team\",\n",
    "    \"away_points\",\n",
    "    \"away_post_wp\",\n",
    "    \"home_ml\",\n",
    "    \"away_ml\",\n",
    "    \"spread_open\",\n",
    "    \"over_under_open\",\n",
    "    \"team_home\",\n",
    "    \"team_away\",\n",
    "]"
   ]
  },
  {
   "cell_type": "code",
   "execution_count": 15,
   "metadata": {},
   "outputs": [],
   "source": [
    "df = pd.read_parquet(path=\"./data/X_predict.parquet\")"
   ]
  },
  {
   "cell_type": "code",
   "execution_count": 16,
   "metadata": {},
   "outputs": [],
   "source": [
    "df[\"start_date\"] = pd.to_datetime(df[\"start_date\"], utc=True)"
   ]
  },
  {
   "cell_type": "code",
   "execution_count": 17,
   "metadata": {},
   "outputs": [],
   "source": [
    "# Filter to only upcoming games\n",
    "df = df[df[\"start_date\"] > datetime.now(pytz.utc)]"
   ]
  },
  {
   "cell_type": "code",
   "execution_count": 18,
   "metadata": {},
   "outputs": [],
   "source": [
    "# Filter to only games with spreads\n",
    "df = df.loc[~df.spread.isna(), :]"
   ]
  },
  {
   "cell_type": "code",
   "execution_count": 19,
   "metadata": {},
   "outputs": [],
   "source": [
    "import os\n",
    "\n",
    "models = [x for x in os.listdir(\"models/\") if \"model-\" in x]"
   ]
  },
  {
   "cell_type": "code",
   "execution_count": 20,
   "metadata": {},
   "outputs": [],
   "source": [
    "models.sort(reverse=True)"
   ]
  },
  {
   "cell_type": "code",
   "execution_count": 21,
   "metadata": {},
   "outputs": [],
   "source": [
    "latest = models[0]"
   ]
  },
  {
   "cell_type": "code",
   "execution_count": 23,
   "metadata": {},
   "outputs": [],
   "source": [
    "with open(f\"models/{latest}\", \"rb\") as f:\n",
    "    model = pickle.load(f)"
   ]
  },
  {
   "cell_type": "code",
   "execution_count": 24,
   "metadata": {},
   "outputs": [],
   "source": [
    "df[[\"sp_st_rating_home\", \"sp_st_rating_away\"]] = df[\n",
    "    [\"sp_st_rating_home\", \"sp_st_rating_away\"]\n",
    "].fillna(0)"
   ]
  },
  {
   "cell_type": "code",
   "execution_count": 25,
   "metadata": {},
   "outputs": [
    {
     "name": "stdout",
     "output_type": "stream",
     "text": [
      "[LightGBM] [Warning] bagging_freq is set=1, subsample_freq=0 will be ignored. Current value: bagging_freq=1\n"
     ]
    }
   ],
   "source": [
    "y_preds = model.predict(df.drop(columns=exclude))\n",
    "y_preds = pd.Series(y_preds, name=\"preds\")"
   ]
  },
  {
   "cell_type": "code",
   "execution_count": 26,
   "metadata": {},
   "outputs": [],
   "source": [
    "if run_type == \"predict\":\n",
    "    preds_df = df[[\"id\", \"home_team\", \"away_team\"]].copy()\n",
    "    preds_df = preds_df.reset_index(drop=True)\n",
    "    preds_df[\"predicted\"] = y_preds"
   ]
  },
  {
   "cell_type": "code",
   "execution_count": 27,
   "metadata": {},
   "outputs": [],
   "source": [
    "preds_df.columns = [\"id\", \"home\", \"away\", \"predicted\"]"
   ]
  },
  {
   "cell_type": "code",
   "execution_count": 28,
   "metadata": {},
   "outputs": [
    {
     "data": {
      "text/html": [
       "<div>\n",
       "<style scoped>\n",
       "    .dataframe tbody tr th:only-of-type {\n",
       "        vertical-align: middle;\n",
       "    }\n",
       "\n",
       "    .dataframe tbody tr th {\n",
       "        vertical-align: top;\n",
       "    }\n",
       "\n",
       "    .dataframe thead th {\n",
       "        text-align: right;\n",
       "    }\n",
       "</style>\n",
       "<table border=\"1\" class=\"dataframe\">\n",
       "  <thead>\n",
       "    <tr style=\"text-align: right;\">\n",
       "      <th></th>\n",
       "      <th>id</th>\n",
       "      <th>home</th>\n",
       "      <th>away</th>\n",
       "      <th>predicted</th>\n",
       "    </tr>\n",
       "  </thead>\n",
       "  <tbody>\n",
       "    <tr>\n",
       "      <th>0</th>\n",
       "      <td>401531894</td>\n",
       "      <td>Georgia Southern</td>\n",
       "      <td>Louisiana Monroe</td>\n",
       "      <td>-13.289279</td>\n",
       "    </tr>\n",
       "    <tr>\n",
       "      <th>1</th>\n",
       "      <td>401532429</td>\n",
       "      <td>Bowling Green</td>\n",
       "      <td>Akron</td>\n",
       "      <td>-7.666934</td>\n",
       "    </tr>\n",
       "    <tr>\n",
       "      <th>2</th>\n",
       "      <td>401520341</td>\n",
       "      <td>Missouri</td>\n",
       "      <td>South Carolina</td>\n",
       "      <td>-7.135139</td>\n",
       "    </tr>\n",
       "    <tr>\n",
       "      <th>3</th>\n",
       "      <td>401520342</td>\n",
       "      <td>Nebraska</td>\n",
       "      <td>Northwestern</td>\n",
       "      <td>-7.203763</td>\n",
       "    </tr>\n",
       "    <tr>\n",
       "      <th>4</th>\n",
       "      <td>401532426</td>\n",
       "      <td>Northern Illinois</td>\n",
       "      <td>Eastern Michigan</td>\n",
       "      <td>-7.953636</td>\n",
       "    </tr>\n",
       "    <tr>\n",
       "      <th>...</th>\n",
       "      <td>...</td>\n",
       "      <td>...</td>\n",
       "      <td>...</td>\n",
       "      <td>...</td>\n",
       "    </tr>\n",
       "    <tr>\n",
       "      <th>70</th>\n",
       "      <td>401520429</td>\n",
       "      <td>Florida</td>\n",
       "      <td>Florida State</td>\n",
       "      <td>5.349927</td>\n",
       "    </tr>\n",
       "    <tr>\n",
       "      <th>71</th>\n",
       "      <td>401520441</td>\n",
       "      <td>South Carolina</td>\n",
       "      <td>Clemson</td>\n",
       "      <td>5.090819</td>\n",
       "    </tr>\n",
       "    <tr>\n",
       "      <th>72</th>\n",
       "      <td>401520427</td>\n",
       "      <td>Auburn</td>\n",
       "      <td>Alabama</td>\n",
       "      <td>12.551769</td>\n",
       "    </tr>\n",
       "    <tr>\n",
       "      <th>73</th>\n",
       "      <td>401525562</td>\n",
       "      <td>NC State</td>\n",
       "      <td>North Carolina</td>\n",
       "      <td>-1.099447</td>\n",
       "    </tr>\n",
       "    <tr>\n",
       "      <th>74</th>\n",
       "      <td>401520434</td>\n",
       "      <td>Michigan</td>\n",
       "      <td>Ohio State</td>\n",
       "      <td>-0.370009</td>\n",
       "    </tr>\n",
       "  </tbody>\n",
       "</table>\n",
       "<p>75 rows × 4 columns</p>\n",
       "</div>"
      ],
      "text/plain": [
       "           id               home              away  predicted\n",
       "0   401531894   Georgia Southern  Louisiana Monroe -13.289279\n",
       "1   401532429      Bowling Green             Akron  -7.666934\n",
       "2   401520341           Missouri    South Carolina  -7.135139\n",
       "3   401520342           Nebraska      Northwestern  -7.203763\n",
       "4   401532426  Northern Illinois  Eastern Michigan  -7.953636\n",
       "..        ...                ...               ...        ...\n",
       "70  401520429            Florida     Florida State   5.349927\n",
       "71  401520441     South Carolina           Clemson   5.090819\n",
       "72  401520427             Auburn           Alabama  12.551769\n",
       "73  401525562           NC State    North Carolina  -1.099447\n",
       "74  401520434           Michigan        Ohio State  -0.370009\n",
       "\n",
       "[75 rows x 4 columns]"
      ]
     },
     "execution_count": 28,
     "metadata": {},
     "output_type": "execute_result"
    }
   ],
   "source": [
    "preds_df"
   ]
  },
  {
   "cell_type": "code",
   "execution_count": 29,
   "metadata": {},
   "outputs": [],
   "source": [
    "preds_df.to_clipboard(sep=\",\", index=False)"
   ]
  },
  {
   "cell_type": "code",
   "execution_count": null,
   "metadata": {},
   "outputs": [],
   "source": []
  }
 ],
 "metadata": {
  "kernelspec": {
   "display_name": ".venv",
   "language": "python",
   "name": "python3"
  },
  "language_info": {
   "codemirror_mode": {
    "name": "ipython",
    "version": 3
   },
   "file_extension": ".py",
   "mimetype": "text/x-python",
   "name": "python",
   "nbconvert_exporter": "python",
   "pygments_lexer": "ipython3",
   "version": "3.11.0"
  },
  "orig_nbformat": 4
 },
 "nbformat": 4,
 "nbformat_minor": 2
}
