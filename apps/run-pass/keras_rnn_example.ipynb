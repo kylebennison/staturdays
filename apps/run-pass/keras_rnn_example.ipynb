{
 "cells": [
  {
   "cell_type": "markdown",
   "metadata": {},
   "source": [
    "# Run/Pass RNN\n",
    "\n",
    "This example will leverage RNNs using keras to predict the next play type in a sequence of runs and passes by a team by leveraging the previous sequence of plays, along with game-state."
   ]
  },
  {
   "cell_type": "code",
   "execution_count": null,
   "metadata": {},
   "outputs": [],
   "source": [
    "from tensorflow import keras"
   ]
  }
 ],
 "metadata": {
  "language_info": {
   "name": "python"
  }
 },
 "nbformat": 4,
 "nbformat_minor": 2
}
