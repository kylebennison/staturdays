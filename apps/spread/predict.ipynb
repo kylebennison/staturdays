{
 "cells": [
  {
   "cell_type": "code",
   "execution_count": 1,
   "metadata": {},
   "outputs": [],
   "source": [
    "import pickle\n",
    "import lightgbm as lgbm\n",
    "import pandas as pd\n",
    "from datetime import datetime\n",
    "import pytz\n",
    "\n",
    "run_type = \"predict\"\n",
    "\n",
    "exclude = [\n",
    "    \"id\",\n",
    "    \"year\",\n",
    "    \"week\",\n",
    "    \"season_type\",\n",
    "    \"start_date\",\n",
    "    \"completed\",\n",
    "    \"home_team\",\n",
    "    \"home_points\",\n",
    "    \"home_post_wp\",\n",
    "    \"away_team\",\n",
    "    \"away_points\",\n",
    "    \"away_post_wp\",\n",
    "    \"home_ml\",\n",
    "    \"away_ml\",\n",
    "    \"spread_open\",\n",
    "    \"over_under_open\",\n",
    "    \"team_home\",\n",
    "    \"team_away\",\n",
    "]"
   ]
  },
  {
   "cell_type": "code",
   "execution_count": 2,
   "metadata": {},
   "outputs": [],
   "source": [
    "df = pd.read_parquet(path=\"./data/X_predict.parquet\")"
   ]
  },
  {
   "cell_type": "code",
   "execution_count": 3,
   "metadata": {},
   "outputs": [],
   "source": [
    "df[\"start_date\"] = pd.to_datetime(df[\"start_date\"], utc=True)"
   ]
  },
  {
   "cell_type": "code",
   "execution_count": 4,
   "metadata": {},
   "outputs": [],
   "source": [
    "# Filter to only upcoming games\n",
    "df = df[df[\"start_date\"] > datetime.now(pytz.utc)]"
   ]
  },
  {
   "cell_type": "code",
   "execution_count": 5,
   "metadata": {},
   "outputs": [],
   "source": [
    "# Filter to only games with spreads\n",
    "df = df.loc[~df.spread.isna(), :]"
   ]
  },
  {
   "cell_type": "code",
   "execution_count": 6,
   "metadata": {},
   "outputs": [],
   "source": [
    "import os\n",
    "\n",
    "models = [x for x in os.listdir() if \"model-\" in x]"
   ]
  },
  {
   "cell_type": "code",
   "execution_count": 7,
   "metadata": {},
   "outputs": [],
   "source": [
    "models.sort(reverse=True)"
   ]
  },
  {
   "cell_type": "code",
   "execution_count": 8,
   "metadata": {},
   "outputs": [],
   "source": [
    "latest = models[0]"
   ]
  },
  {
   "cell_type": "code",
   "execution_count": 9,
   "metadata": {},
   "outputs": [],
   "source": [
    "with open(latest, \"rb\") as f:\n",
    "    model = pickle.load(f)"
   ]
  },
  {
   "cell_type": "code",
   "execution_count": 10,
   "metadata": {},
   "outputs": [],
   "source": [
    "df[[\"sp_st_rating_home\", \"sp_st_rating_away\"]] = df[\n",
    "    [\"sp_st_rating_home\", \"sp_st_rating_away\"]\n",
    "].fillna(0)"
   ]
  },
  {
   "cell_type": "code",
   "execution_count": 11,
   "metadata": {},
   "outputs": [
    {
     "name": "stdout",
     "output_type": "stream",
     "text": [
      "[LightGBM] [Warning] bagging_freq is set=1, subsample_freq=0 will be ignored. Current value: bagging_freq=1\n"
     ]
    }
   ],
   "source": [
    "y_preds = model.predict(df.drop(columns=exclude))\n",
    "y_preds = pd.Series(y_preds, name=\"preds\")"
   ]
  },
  {
   "cell_type": "code",
   "execution_count": 12,
   "metadata": {},
   "outputs": [],
   "source": [
    "if run_type == \"predict\":\n",
    "    preds_df = df[[\"id\", \"home_team\", \"away_team\"]].copy()\n",
    "    preds_df = preds_df.reset_index(drop=True)\n",
    "    preds_df[\"predicted\"] = y_preds"
   ]
  },
  {
   "cell_type": "code",
   "execution_count": 13,
   "metadata": {},
   "outputs": [],
   "source": [
    "preds_df.columns = [\"id\", \"home\", \"away\", \"predicted\"]"
   ]
  },
  {
   "cell_type": "code",
   "execution_count": 14,
   "metadata": {},
   "outputs": [
    {
     "data": {
      "text/html": [
       "<div>\n",
       "<style scoped>\n",
       "    .dataframe tbody tr th:only-of-type {\n",
       "        vertical-align: middle;\n",
       "    }\n",
       "\n",
       "    .dataframe tbody tr th {\n",
       "        vertical-align: top;\n",
       "    }\n",
       "\n",
       "    .dataframe thead th {\n",
       "        text-align: right;\n",
       "    }\n",
       "</style>\n",
       "<table border=\"1\" class=\"dataframe\">\n",
       "  <thead>\n",
       "    <tr style=\"text-align: right;\">\n",
       "      <th></th>\n",
       "      <th>id</th>\n",
       "      <th>home</th>\n",
       "      <th>away</th>\n",
       "      <th>predicted</th>\n",
       "    </tr>\n",
       "  </thead>\n",
       "  <tbody>\n",
       "    <tr>\n",
       "      <th>0</th>\n",
       "      <td>401532422</td>\n",
       "      <td>Eastern Michigan</td>\n",
       "      <td>Kent State</td>\n",
       "      <td>-5.435606</td>\n",
       "    </tr>\n",
       "    <tr>\n",
       "      <th>1</th>\n",
       "      <td>401531890</td>\n",
       "      <td>James Madison</td>\n",
       "      <td>Georgia Southern</td>\n",
       "      <td>-5.924599</td>\n",
       "    </tr>\n",
       "    <tr>\n",
       "      <th>2</th>\n",
       "      <td>401520321</td>\n",
       "      <td>Michigan</td>\n",
       "      <td>Indiana</td>\n",
       "      <td>-28.470475</td>\n",
       "    </tr>\n",
       "    <tr>\n",
       "      <th>3</th>\n",
       "      <td>401520324</td>\n",
       "      <td>Rutgers</td>\n",
       "      <td>Michigan State</td>\n",
       "      <td>0.630288</td>\n",
       "    </tr>\n",
       "    <tr>\n",
       "      <th>4</th>\n",
       "      <td>401520327</td>\n",
       "      <td>Vanderbilt</td>\n",
       "      <td>Georgia</td>\n",
       "      <td>21.497753</td>\n",
       "    </tr>\n",
       "    <tr>\n",
       "      <th>...</th>\n",
       "      <td>...</td>\n",
       "      <td>...</td>\n",
       "      <td>...</td>\n",
       "      <td>...</td>\n",
       "    </tr>\n",
       "    <tr>\n",
       "      <th>80</th>\n",
       "      <td>401520429</td>\n",
       "      <td>Florida</td>\n",
       "      <td>Florida State</td>\n",
       "      <td>5.382606</td>\n",
       "    </tr>\n",
       "    <tr>\n",
       "      <th>81</th>\n",
       "      <td>401520433</td>\n",
       "      <td>LSU</td>\n",
       "      <td>Texas A&amp;M</td>\n",
       "      <td>-5.553947</td>\n",
       "    </tr>\n",
       "    <tr>\n",
       "      <th>82</th>\n",
       "      <td>401520441</td>\n",
       "      <td>South Carolina</td>\n",
       "      <td>Clemson</td>\n",
       "      <td>5.024580</td>\n",
       "    </tr>\n",
       "    <tr>\n",
       "      <th>83</th>\n",
       "      <td>401525562</td>\n",
       "      <td>NC State</td>\n",
       "      <td>North Carolina</td>\n",
       "      <td>-1.156872</td>\n",
       "    </tr>\n",
       "    <tr>\n",
       "      <th>84</th>\n",
       "      <td>401520434</td>\n",
       "      <td>Michigan</td>\n",
       "      <td>Ohio State</td>\n",
       "      <td>0.097040</td>\n",
       "    </tr>\n",
       "  </tbody>\n",
       "</table>\n",
       "<p>85 rows × 4 columns</p>\n",
       "</div>"
      ],
      "text/plain": [
       "           id              home              away  predicted\n",
       "0   401532422  Eastern Michigan        Kent State  -5.435606\n",
       "1   401531890     James Madison  Georgia Southern  -5.924599\n",
       "2   401520321          Michigan           Indiana -28.470475\n",
       "3   401520324           Rutgers    Michigan State   0.630288\n",
       "4   401520327        Vanderbilt           Georgia  21.497753\n",
       "..        ...               ...               ...        ...\n",
       "80  401520429           Florida     Florida State   5.382606\n",
       "81  401520433               LSU         Texas A&M  -5.553947\n",
       "82  401520441    South Carolina           Clemson   5.024580\n",
       "83  401525562          NC State    North Carolina  -1.156872\n",
       "84  401520434          Michigan        Ohio State   0.097040\n",
       "\n",
       "[85 rows x 4 columns]"
      ]
     },
     "execution_count": 14,
     "metadata": {},
     "output_type": "execute_result"
    }
   ],
   "source": [
    "preds_df"
   ]
  },
  {
   "cell_type": "code",
   "execution_count": 15,
   "metadata": {},
   "outputs": [],
   "source": [
    "preds_df.to_clipboard(sep=\",\", index=False)"
   ]
  }
 ],
 "metadata": {
  "kernelspec": {
   "display_name": ".venv",
   "language": "python",
   "name": "python3"
  },
  "language_info": {
   "codemirror_mode": {
    "name": "ipython",
    "version": 3
   },
   "file_extension": ".py",
   "mimetype": "text/x-python",
   "name": "python",
   "nbconvert_exporter": "python",
   "pygments_lexer": "ipython3",
   "version": "3.11.0"
  },
  "orig_nbformat": 4
 },
 "nbformat": 4,
 "nbformat_minor": 2
}
