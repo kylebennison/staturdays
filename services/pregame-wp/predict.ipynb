{
 "cells": [
  {
   "cell_type": "code",
   "execution_count": 17,
   "metadata": {},
   "outputs": [],
   "source": [
    "import pickle\n",
    "import lightgbm as lgbm\n",
    "import pandas as pd\n",
    "\n",
    "run_type = \"predict\"\n",
    "\n",
    "exclude = [\n",
    "    'id',\n",
    " 'year',\n",
    " 'week',\n",
    " 'season_type',\n",
    " 'start_date',\n",
    " 'completed',\n",
    " 'home_team',\n",
    " 'home_points',\n",
    " 'home_post_wp',\n",
    " 'away_team',\n",
    " 'away_points',\n",
    " 'away_post_wp',\n",
    " 'home_ml',\n",
    " 'away_ml',\n",
    " 'spread_open',\n",
    " 'over_under_open',\n",
    " 'team_home',\n",
    " 'team_away']"
   ]
  },
  {
   "cell_type": "code",
   "execution_count": 18,
   "metadata": {},
   "outputs": [],
   "source": [
    "df = pd.read_parquet(path=\"./X_predict.parquet\")"
   ]
  },
  {
   "cell_type": "code",
   "execution_count": 19,
   "metadata": {},
   "outputs": [],
   "source": [
    "with open(\"model-2023-09-15.pickle\", \"rb\") as f:\n",
    "    model = pickle.load(f)"
   ]
  },
  {
   "cell_type": "code",
   "execution_count": 20,
   "metadata": {},
   "outputs": [],
   "source": [
    "y_preds = model.predict(df.drop(columns=exclude))\n",
    "y_preds = pd.Series(y_preds, name=\"preds\")"
   ]
  },
  {
   "cell_type": "code",
   "execution_count": 21,
   "metadata": {},
   "outputs": [],
   "source": [
    "if run_type == \"predict\":\n",
    "    preds_df = df[[\"id\", \"home_team\", \"away_team\"]].copy()\n",
    "    preds_df[\"predicted\"] = y_preds"
   ]
  },
  {
   "cell_type": "code",
   "execution_count": 22,
   "metadata": {},
   "outputs": [],
   "source": [
    "preds_df.columns = [\"id\", \"home\", \"away\", \"predicted\"]"
   ]
  },
  {
   "cell_type": "code",
   "execution_count": 23,
   "metadata": {},
   "outputs": [
    {
     "data": {
      "text/html": [
       "<div>\n",
       "<style scoped>\n",
       "    .dataframe tbody tr th:only-of-type {\n",
       "        vertical-align: middle;\n",
       "    }\n",
       "\n",
       "    .dataframe tbody tr th {\n",
       "        vertical-align: top;\n",
       "    }\n",
       "\n",
       "    .dataframe thead th {\n",
       "        text-align: right;\n",
       "    }\n",
       "</style>\n",
       "<table border=\"1\" class=\"dataframe\">\n",
       "  <thead>\n",
       "    <tr style=\"text-align: right;\">\n",
       "      <th></th>\n",
       "      <th>id</th>\n",
       "      <th>home</th>\n",
       "      <th>away</th>\n",
       "      <th>predicted</th>\n",
       "    </tr>\n",
       "  </thead>\n",
       "  <tbody>\n",
       "    <tr>\n",
       "      <th>0</th>\n",
       "      <td>401525434</td>\n",
       "      <td>Notre Dame</td>\n",
       "      <td>Navy</td>\n",
       "      <td>-17.752208</td>\n",
       "    </tr>\n",
       "    <tr>\n",
       "      <th>1</th>\n",
       "      <td>401520145</td>\n",
       "      <td>Jacksonville State</td>\n",
       "      <td>UTEP</td>\n",
       "      <td>-10.155512</td>\n",
       "    </tr>\n",
       "    <tr>\n",
       "      <th>2</th>\n",
       "      <td>401532392</td>\n",
       "      <td>San Diego State</td>\n",
       "      <td>Ohio</td>\n",
       "      <td>-1.812098</td>\n",
       "    </tr>\n",
       "    <tr>\n",
       "      <th>3</th>\n",
       "      <td>401525450</td>\n",
       "      <td>New Mexico State</td>\n",
       "      <td>UMass</td>\n",
       "      <td>-13.273348</td>\n",
       "    </tr>\n",
       "    <tr>\n",
       "      <th>4</th>\n",
       "      <td>401520147</td>\n",
       "      <td>Vanderbilt</td>\n",
       "      <td>Hawai'i</td>\n",
       "      <td>-19.077994</td>\n",
       "    </tr>\n",
       "    <tr>\n",
       "      <th>...</th>\n",
       "      <td>...</td>\n",
       "      <td>...</td>\n",
       "      <td>...</td>\n",
       "      <td>...</td>\n",
       "    </tr>\n",
       "    <tr>\n",
       "      <th>784</th>\n",
       "      <td>401520444</td>\n",
       "      <td>UTEP</td>\n",
       "      <td>Liberty</td>\n",
       "      <td>7.988380</td>\n",
       "    </tr>\n",
       "    <tr>\n",
       "      <th>785</th>\n",
       "      <td>401520437</td>\n",
       "      <td>New Mexico State</td>\n",
       "      <td>Jacksonville State</td>\n",
       "      <td>6.593597</td>\n",
       "    </tr>\n",
       "    <tr>\n",
       "      <th>786</th>\n",
       "      <td>401532630</td>\n",
       "      <td>Nevada</td>\n",
       "      <td>Wyoming</td>\n",
       "      <td>6.331094</td>\n",
       "    </tr>\n",
       "    <tr>\n",
       "      <th>787</th>\n",
       "      <td>401532626</td>\n",
       "      <td>Hawai'i</td>\n",
       "      <td>Colorado State</td>\n",
       "      <td>2.465674</td>\n",
       "    </tr>\n",
       "    <tr>\n",
       "      <th>788</th>\n",
       "      <td>401520445</td>\n",
       "      <td>Army</td>\n",
       "      <td>Navy</td>\n",
       "      <td>-11.092193</td>\n",
       "    </tr>\n",
       "  </tbody>\n",
       "</table>\n",
       "<p>789 rows × 4 columns</p>\n",
       "</div>"
      ],
      "text/plain": [
       "            id                home                away  predicted\n",
       "0    401525434          Notre Dame                Navy -17.752208\n",
       "1    401520145  Jacksonville State                UTEP -10.155512\n",
       "2    401532392     San Diego State                Ohio  -1.812098\n",
       "3    401525450    New Mexico State               UMass -13.273348\n",
       "4    401520147          Vanderbilt             Hawai'i -19.077994\n",
       "..         ...                 ...                 ...        ...\n",
       "784  401520444                UTEP             Liberty   7.988380\n",
       "785  401520437    New Mexico State  Jacksonville State   6.593597\n",
       "786  401532630              Nevada             Wyoming   6.331094\n",
       "787  401532626             Hawai'i      Colorado State   2.465674\n",
       "788  401520445                Army                Navy -11.092193\n",
       "\n",
       "[789 rows x 4 columns]"
      ]
     },
     "execution_count": 23,
     "metadata": {},
     "output_type": "execute_result"
    }
   ],
   "source": [
    "preds_df"
   ]
  },
  {
   "cell_type": "code",
   "execution_count": 24,
   "metadata": {},
   "outputs": [],
   "source": [
    "preds_df.to_clipboard(sep=\",\", index=False)"
   ]
  }
 ],
 "metadata": {
  "kernelspec": {
   "display_name": ".venv",
   "language": "python",
   "name": "python3"
  },
  "language_info": {
   "codemirror_mode": {
    "name": "ipython",
    "version": 3
   },
   "file_extension": ".py",
   "mimetype": "text/x-python",
   "name": "python",
   "nbconvert_exporter": "python",
   "pygments_lexer": "ipython3",
   "version": "3.11.0"
  },
  "orig_nbformat": 4
 },
 "nbformat": 4,
 "nbformat_minor": 2
}
