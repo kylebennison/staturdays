{
 "cells": [
  {
   "cell_type": "code",
   "execution_count": 1,
   "metadata": {},
   "outputs": [],
   "source": [
    "import pickle\n",
    "import lightgbm as lgbm\n",
    "import pandas as pd\n",
    "from datetime import datetime\n",
    "import pytz\n",
    "\n",
    "run_type = \"predict\"\n",
    "\n",
    "exclude = [\n",
    "    \"id\",\n",
    "    \"year\",\n",
    "    \"week\",\n",
    "    \"season_type\",\n",
    "    \"start_date\",\n",
    "    \"completed\",\n",
    "    \"home_team\",\n",
    "    \"home_points\",\n",
    "    \"home_post_wp\",\n",
    "    \"away_team\",\n",
    "    \"away_points\",\n",
    "    \"away_post_wp\",\n",
    "    \"home_ml\",\n",
    "    \"away_ml\",\n",
    "    \"spread_open\",\n",
    "    \"over_under_open\",\n",
    "    \"team_home\",\n",
    "    \"team_away\",\n",
    "]"
   ]
  },
  {
   "cell_type": "code",
   "execution_count": 2,
   "metadata": {},
   "outputs": [],
   "source": [
    "df = pd.read_parquet(path=\"./X_predict.parquet\")"
   ]
  },
  {
   "cell_type": "code",
   "execution_count": 3,
   "metadata": {},
   "outputs": [],
   "source": [
    "df[\"start_date\"] = pd.to_datetime(df[\"start_date\"], utc=True)"
   ]
  },
  {
   "cell_type": "code",
   "execution_count": 4,
   "metadata": {},
   "outputs": [],
   "source": [
    "# Filter to only upcoming games\n",
    "df = df[df[\"start_date\"] > datetime.now(pytz.utc)]"
   ]
  },
  {
   "cell_type": "code",
   "execution_count": 5,
   "metadata": {},
   "outputs": [],
   "source": [
    "# Filter to only games with spreads\n",
    "df = df.loc[~df.spread.isna(), :]"
   ]
  },
  {
   "cell_type": "code",
   "execution_count": 6,
   "metadata": {},
   "outputs": [],
   "source": [
    "import os\n",
    "\n",
    "models = [x for x in os.listdir() if \"model-\" in x]"
   ]
  },
  {
   "cell_type": "code",
   "execution_count": 7,
   "metadata": {},
   "outputs": [],
   "source": [
    "models.sort(reverse=True)"
   ]
  },
  {
   "cell_type": "code",
   "execution_count": 8,
   "metadata": {},
   "outputs": [],
   "source": [
    "latest = models[0]"
   ]
  },
  {
   "cell_type": "code",
   "execution_count": 9,
   "metadata": {},
   "outputs": [],
   "source": [
    "with open(latest, \"rb\") as f:\n",
    "    model = pickle.load(f)"
   ]
  },
  {
   "cell_type": "code",
   "execution_count": 10,
   "metadata": {},
   "outputs": [],
   "source": [
    "df[[\"sp_st_rating_home\", \"sp_st_rating_away\"]] = df[\n",
    "    [\"sp_st_rating_home\", \"sp_st_rating_away\"]\n",
    "].fillna(0)"
   ]
  },
  {
   "cell_type": "code",
   "execution_count": 11,
   "metadata": {},
   "outputs": [
    {
     "name": "stdout",
     "output_type": "stream",
     "text": [
      "[LightGBM] [Warning] bagging_freq is set=1, subsample_freq=0 will be ignored. Current value: bagging_freq=1\n"
     ]
    }
   ],
   "source": [
    "y_preds = model.predict(df.drop(columns=exclude))\n",
    "y_preds = pd.Series(y_preds, name=\"preds\")"
   ]
  },
  {
   "cell_type": "code",
   "execution_count": 12,
   "metadata": {},
   "outputs": [],
   "source": [
    "if run_type == \"predict\":\n",
    "    preds_df = df[[\"id\", \"home_team\", \"away_team\"]].copy()\n",
    "    preds_df = preds_df.reset_index(drop=True)\n",
    "    preds_df[\"predicted\"] = y_preds"
   ]
  },
  {
   "cell_type": "code",
   "execution_count": 13,
   "metadata": {},
   "outputs": [],
   "source": [
    "preds_df.columns = [\"id\", \"home\", \"away\", \"predicted\"]"
   ]
  },
  {
   "cell_type": "code",
   "execution_count": 14,
   "metadata": {},
   "outputs": [
    {
     "data": {
      "text/html": [
       "<div>\n",
       "<style scoped>\n",
       "    .dataframe tbody tr th:only-of-type {\n",
       "        vertical-align: middle;\n",
       "    }\n",
       "\n",
       "    .dataframe tbody tr th {\n",
       "        vertical-align: top;\n",
       "    }\n",
       "\n",
       "    .dataframe thead th {\n",
       "        text-align: right;\n",
       "    }\n",
       "</style>\n",
       "<table border=\"1\" class=\"dataframe\">\n",
       "  <thead>\n",
       "    <tr style=\"text-align: right;\">\n",
       "      <th></th>\n",
       "      <th>id</th>\n",
       "      <th>home</th>\n",
       "      <th>away</th>\n",
       "      <th>predicted</th>\n",
       "    </tr>\n",
       "  </thead>\n",
       "  <tbody>\n",
       "    <tr>\n",
       "      <th>0</th>\n",
       "      <td>401520307</td>\n",
       "      <td>Ohio State</td>\n",
       "      <td>Maryland</td>\n",
       "      <td>-16.245862</td>\n",
       "    </tr>\n",
       "    <tr>\n",
       "      <th>1</th>\n",
       "      <td>401520304</td>\n",
       "      <td>Mississippi State</td>\n",
       "      <td>Western Michigan</td>\n",
       "      <td>-19.023920</td>\n",
       "    </tr>\n",
       "    <tr>\n",
       "      <th>2</th>\n",
       "      <td>401520311</td>\n",
       "      <td>Wisconsin</td>\n",
       "      <td>Rutgers</td>\n",
       "      <td>-8.701414</td>\n",
       "    </tr>\n",
       "    <tr>\n",
       "      <th>3</th>\n",
       "      <td>401520305</td>\n",
       "      <td>Missouri</td>\n",
       "      <td>LSU</td>\n",
       "      <td>3.515074</td>\n",
       "    </tr>\n",
       "    <tr>\n",
       "      <th>4</th>\n",
       "      <td>401520298</td>\n",
       "      <td>Army</td>\n",
       "      <td>Boston College</td>\n",
       "      <td>-3.732851</td>\n",
       "    </tr>\n",
       "    <tr>\n",
       "      <th>...</th>\n",
       "      <td>...</td>\n",
       "      <td>...</td>\n",
       "      <td>...</td>\n",
       "      <td>...</td>\n",
       "    </tr>\n",
       "    <tr>\n",
       "      <th>84</th>\n",
       "      <td>401520429</td>\n",
       "      <td>Florida</td>\n",
       "      <td>Florida State</td>\n",
       "      <td>5.987861</td>\n",
       "    </tr>\n",
       "    <tr>\n",
       "      <th>85</th>\n",
       "      <td>401520433</td>\n",
       "      <td>LSU</td>\n",
       "      <td>Texas A&amp;M</td>\n",
       "      <td>-5.583962</td>\n",
       "    </tr>\n",
       "    <tr>\n",
       "      <th>86</th>\n",
       "      <td>401520441</td>\n",
       "      <td>South Carolina</td>\n",
       "      <td>Clemson</td>\n",
       "      <td>5.053704</td>\n",
       "    </tr>\n",
       "    <tr>\n",
       "      <th>87</th>\n",
       "      <td>401525562</td>\n",
       "      <td>NC State</td>\n",
       "      <td>North Carolina</td>\n",
       "      <td>-1.498479</td>\n",
       "    </tr>\n",
       "    <tr>\n",
       "      <th>88</th>\n",
       "      <td>401520434</td>\n",
       "      <td>Michigan</td>\n",
       "      <td>Ohio State</td>\n",
       "      <td>-1.366698</td>\n",
       "    </tr>\n",
       "  </tbody>\n",
       "</table>\n",
       "<p>89 rows × 4 columns</p>\n",
       "</div>"
      ],
      "text/plain": [
       "           id               home              away  predicted\n",
       "0   401520307         Ohio State          Maryland -16.245862\n",
       "1   401520304  Mississippi State  Western Michigan -19.023920\n",
       "2   401520311          Wisconsin           Rutgers  -8.701414\n",
       "3   401520305           Missouri               LSU   3.515074\n",
       "4   401520298               Army    Boston College  -3.732851\n",
       "..        ...                ...               ...        ...\n",
       "84  401520429            Florida     Florida State   5.987861\n",
       "85  401520433                LSU         Texas A&M  -5.583962\n",
       "86  401520441     South Carolina           Clemson   5.053704\n",
       "87  401525562           NC State    North Carolina  -1.498479\n",
       "88  401520434           Michigan        Ohio State  -1.366698\n",
       "\n",
       "[89 rows x 4 columns]"
      ]
     },
     "execution_count": 14,
     "metadata": {},
     "output_type": "execute_result"
    }
   ],
   "source": [
    "preds_df"
   ]
  },
  {
   "cell_type": "code",
   "execution_count": 15,
   "metadata": {},
   "outputs": [],
   "source": [
    "preds_df.to_clipboard(sep=\",\", index=False)"
   ]
  }
 ],
 "metadata": {
  "kernelspec": {
   "display_name": ".venv",
   "language": "python",
   "name": "python3"
  },
  "language_info": {
   "codemirror_mode": {
    "name": "ipython",
    "version": 3
   },
   "file_extension": ".py",
   "mimetype": "text/x-python",
   "name": "python",
   "nbconvert_exporter": "python",
   "pygments_lexer": "ipython3",
   "version": "3.11.0"
  },
  "orig_nbformat": 4
 },
 "nbformat": 4,
 "nbformat_minor": 2
}
