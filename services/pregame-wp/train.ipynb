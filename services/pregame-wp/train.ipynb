{
 "cells": [
  {
   "cell_type": "code",
   "execution_count": 1,
   "metadata": {},
   "outputs": [
    {
     "name": "stderr",
     "output_type": "stream",
     "text": [
      "c:\\Users\\Kyle\\Documents\\Projects\\staturdays\\.venv\\Lib\\site-packages\\tqdm\\auto.py:21: TqdmWarning: IProgress not found. Please update jupyter and ipywidgets. See https://ipywidgets.readthedocs.io/en/stable/user_install.html\n",
      "  from .autonotebook import tqdm as notebook_tqdm\n"
     ]
    }
   ],
   "source": [
    "\"\"\"\n",
    "\n",
    "Ref: https://blog.collegefootballdata.com/talking-tech-building-an-artifical-neural-network-to/\n",
    "\n",
    "\"\"\"\n",
    "import cfbd\n",
    "import numpy as np\n",
    "import pandas as pd\n",
    "import os\n",
    "import lightgbm as lgbm\n",
    "from sklearn.model_selection import train_test_split\n",
    "import optuna\n",
    "import pickle\n",
    "from datetime import datetime\n",
    "\n",
    "from sklearn.decomposition import TruncatedSVD\n",
    "from sklearn.preprocessing import StandardScaler\n",
    "from sklearn.pipeline import make_pipeline"
   ]
  },
  {
   "cell_type": "code",
   "execution_count": 2,
   "metadata": {},
   "outputs": [],
   "source": [
    "X_train, X_valid, X_test, y_train, y_valid, y_test = (\n",
    "    pd.read_parquet(path=\"./X_train.parquet\"), \n",
    "    pd.read_parquet(path=\"./X_valid.parquet\"), \n",
    "    pd.read_parquet(path=\"./X_test.parquet\"), \n",
    "    pd.read_parquet(path=\"./y_train.parquet\"), \n",
    "    pd.read_parquet(path=\"./y_valid.parquet\"),\n",
    "    pd.read_parquet(path=\"./y_test.parquet\")\n",
    ")"
   ]
  },
  {
   "cell_type": "code",
   "execution_count": 3,
   "metadata": {},
   "outputs": [],
   "source": [
    "exclude = [\n",
    "    \"id\",\n",
    "    \"season\",\n",
    "    \"year\",\n",
    "    'season_type',\n",
    " 'start_date',\n",
    " 'completed',\n",
    " 'home_ml',\n",
    " 'away_ml',\n",
    " 'spread_open',\n",
    " 'over_under_open',\n",
    " 'team_home',\n",
    " 'team_away',\n",
    " \"home_post_wp\",\n",
    " \"away_post_wp\",\n",
    " \"home_team\",\n",
    " \"away_team\",\n",
    " \"home_points\",\n",
    " \"away_points\",\n",
    "]"
   ]
  },
  {
   "attachments": {},
   "cell_type": "markdown",
   "metadata": {},
   "source": [
    "# Training"
   ]
  },
  {
   "cell_type": "code",
   "execution_count": 49,
   "metadata": {},
   "outputs": [
    {
     "name": "stdout",
     "output_type": "stream",
     "text": [
      "[LightGBM] [Info] Total Bins 10725\n",
      "[LightGBM] [Info] Number of data points in the train set: 4145, number of used features: 56\n",
      "[LightGBM] [Info] Start training from score -6.000000\n",
      "Training until validation scores don't improve for 10 rounds\n",
      "Early stopping, best iteration is:\n",
      "[3986]\tvalid_0's l1: 13.1168\n"
     ]
    },
    {
     "data": {
      "text/html": [
       "<style>#sk-container-id-17 {color: black;}#sk-container-id-17 pre{padding: 0;}#sk-container-id-17 div.sk-toggleable {background-color: white;}#sk-container-id-17 label.sk-toggleable__label {cursor: pointer;display: block;width: 100%;margin-bottom: 0;padding: 0.3em;box-sizing: border-box;text-align: center;}#sk-container-id-17 label.sk-toggleable__label-arrow:before {content: \"▸\";float: left;margin-right: 0.25em;color: #696969;}#sk-container-id-17 label.sk-toggleable__label-arrow:hover:before {color: black;}#sk-container-id-17 div.sk-estimator:hover label.sk-toggleable__label-arrow:before {color: black;}#sk-container-id-17 div.sk-toggleable__content {max-height: 0;max-width: 0;overflow: hidden;text-align: left;background-color: #f0f8ff;}#sk-container-id-17 div.sk-toggleable__content pre {margin: 0.2em;color: black;border-radius: 0.25em;background-color: #f0f8ff;}#sk-container-id-17 input.sk-toggleable__control:checked~div.sk-toggleable__content {max-height: 200px;max-width: 100%;overflow: auto;}#sk-container-id-17 input.sk-toggleable__control:checked~label.sk-toggleable__label-arrow:before {content: \"▾\";}#sk-container-id-17 div.sk-estimator input.sk-toggleable__control:checked~label.sk-toggleable__label {background-color: #d4ebff;}#sk-container-id-17 div.sk-label input.sk-toggleable__control:checked~label.sk-toggleable__label {background-color: #d4ebff;}#sk-container-id-17 input.sk-hidden--visually {border: 0;clip: rect(1px 1px 1px 1px);clip: rect(1px, 1px, 1px, 1px);height: 1px;margin: -1px;overflow: hidden;padding: 0;position: absolute;width: 1px;}#sk-container-id-17 div.sk-estimator {font-family: monospace;background-color: #f0f8ff;border: 1px dotted black;border-radius: 0.25em;box-sizing: border-box;margin-bottom: 0.5em;}#sk-container-id-17 div.sk-estimator:hover {background-color: #d4ebff;}#sk-container-id-17 div.sk-parallel-item::after {content: \"\";width: 100%;border-bottom: 1px solid gray;flex-grow: 1;}#sk-container-id-17 div.sk-label:hover label.sk-toggleable__label {background-color: #d4ebff;}#sk-container-id-17 div.sk-serial::before {content: \"\";position: absolute;border-left: 1px solid gray;box-sizing: border-box;top: 0;bottom: 0;left: 50%;z-index: 0;}#sk-container-id-17 div.sk-serial {display: flex;flex-direction: column;align-items: center;background-color: white;padding-right: 0.2em;padding-left: 0.2em;position: relative;}#sk-container-id-17 div.sk-item {position: relative;z-index: 1;}#sk-container-id-17 div.sk-parallel {display: flex;align-items: stretch;justify-content: center;background-color: white;position: relative;}#sk-container-id-17 div.sk-item::before, #sk-container-id-17 div.sk-parallel-item::before {content: \"\";position: absolute;border-left: 1px solid gray;box-sizing: border-box;top: 0;bottom: 0;left: 50%;z-index: -1;}#sk-container-id-17 div.sk-parallel-item {display: flex;flex-direction: column;z-index: 1;position: relative;background-color: white;}#sk-container-id-17 div.sk-parallel-item:first-child::after {align-self: flex-end;width: 50%;}#sk-container-id-17 div.sk-parallel-item:last-child::after {align-self: flex-start;width: 50%;}#sk-container-id-17 div.sk-parallel-item:only-child::after {width: 0;}#sk-container-id-17 div.sk-dashed-wrapped {border: 1px dashed gray;margin: 0 0.4em 0.5em 0.4em;box-sizing: border-box;padding-bottom: 0.4em;background-color: white;}#sk-container-id-17 div.sk-label label {font-family: monospace;font-weight: bold;display: inline-block;line-height: 1.2em;}#sk-container-id-17 div.sk-label-container {text-align: center;}#sk-container-id-17 div.sk-container {/* jupyter's `normalize.less` sets `[hidden] { display: none; }` but bootstrap.min.css set `[hidden] { display: none !important; }` so we also need the `!important` here to be able to override the default hidden behavior on the sphinx rendered scikit-learn.org. See: https://github.com/scikit-learn/scikit-learn/issues/21755 */display: inline-block !important;position: relative;}#sk-container-id-17 div.sk-text-repr-fallback {display: none;}</style><div id=\"sk-container-id-17\" class=\"sk-top-container\"><div class=\"sk-text-repr-fallback\"><pre>LGBMRegressor(early_stopping_round=10, force_col_wise=True, learning_rate=0.001,\n",
       "              max_depth=3, n_estimators=10000, num_leaves=3, objective=&#x27;mae&#x27;,\n",
       "              random_state=0, reg_alpha=1, reg_lambda=1, subsample=0.5,\n",
       "              subsample_freq=1)</pre><b>In a Jupyter environment, please rerun this cell to show the HTML representation or trust the notebook. <br />On GitHub, the HTML representation is unable to render, please try loading this page with nbviewer.org.</b></div><div class=\"sk-container\" hidden><div class=\"sk-item\"><div class=\"sk-estimator sk-toggleable\"><input class=\"sk-toggleable__control sk-hidden--visually\" id=\"sk-estimator-id-17\" type=\"checkbox\" checked><label for=\"sk-estimator-id-17\" class=\"sk-toggleable__label sk-toggleable__label-arrow\">LGBMRegressor</label><div class=\"sk-toggleable__content\"><pre>LGBMRegressor(early_stopping_round=10, force_col_wise=True, learning_rate=0.001,\n",
       "              max_depth=3, n_estimators=10000, num_leaves=3, objective=&#x27;mae&#x27;,\n",
       "              random_state=0, reg_alpha=1, reg_lambda=1, subsample=0.5,\n",
       "              subsample_freq=1)</pre></div></div></div></div></div>"
      ],
      "text/plain": [
       "LGBMRegressor(early_stopping_round=10, force_col_wise=True, learning_rate=0.001,\n",
       "              max_depth=3, n_estimators=10000, num_leaves=3, objective='mae',\n",
       "              random_state=0, reg_alpha=1, reg_lambda=1, subsample=0.5,\n",
       "              subsample_freq=1)"
      ]
     },
     "execution_count": 49,
     "metadata": {},
     "output_type": "execute_result"
    }
   ],
   "source": [
    "# Model\n",
    "lgbm_reg = lgbm.LGBMRegressor(\n",
    "    # constants\n",
    "    boosting_type=\"gbdt\",\n",
    "    learning_rate=0.001,\n",
    "    n_estimators=10000,\n",
    "    objective=\"mae\",\n",
    "    subsample_freq=1, # subsample every time\n",
    "    random_state=0,\n",
    "    early_stopping_round=10,\n",
    "    # tuned\n",
    "    reg_alpha=3.9740293140705107,\n",
    "    reg_lambda=1.881540488130314,\n",
    "    colsample_bytree=1.0,\n",
    "    subsample=0.6,\n",
    "    max_depth=4,\n",
    "    num_leaves=873,  # should be less than 2^max_depth. Should be significantly less to avoid overfitting\n",
    "    min_child_samples=42,\n",
    "    min_data_per_groups=92,\n",
    "    # meta\n",
    "    force_col_wise=True,\n",
    ")\n",
    "\n",
    "lgbm_reg.fit(\n",
    "    X=X_train.drop(columns=exclude), \n",
    "    y=y_train,\n",
    "    eval_set=(X_valid.drop(columns=exclude), y_valid),\n",
    "    )"
   ]
  },
  {
   "attachments": {},
   "cell_type": "markdown",
   "metadata": {},
   "source": [
    "# Hyperparam Tuning"
   ]
  },
  {
   "cell_type": "code",
   "execution_count": 83,
   "metadata": {},
   "outputs": [],
   "source": [
    "from sklearn.metrics import mean_absolute_error\n",
    "def objective(trial,data=None,target=None):\n",
    "    \n",
    "    # train_x, test_x, train_y, test_y = train_test_split(data, target, test_size=0.2,random_state=42)\n",
    "    param = {\n",
    "        'metric': 'mae', \n",
    "        'random_state': 0,\n",
    "        'n_estimators': 10000,\n",
    "        \"learning_rate\": 0.001,\n",
    "        \"subsample_freq\": 1,\n",
    "        \"early_stopping_rounds\": 10,\n",
    "        \"force_col_wise\": True,\n",
    "        'reg_alpha': trial.suggest_loguniform('reg_alpha', 1e-3, 10.0),\n",
    "        'reg_lambda': trial.suggest_loguniform('reg_lambda', 1e-3, 10.0),\n",
    "        'colsample_bytree': trial.suggest_categorical('colsample_bytree', [0.2,0.3,0.4,0.5,0.6,0.7,0.8,0.9,1.0]),\n",
    "        'subsample': trial.suggest_categorical('subsample', [0.2,0.3,0.4,0.5,0.6,0.7,0.8,0.9,1.0]),\n",
    "        'max_depth': trial.suggest_int('max_depth', 1,6),\n",
    "        'num_leaves' : trial.suggest_int('num_leaves', 1, 1000),\n",
    "        'min_child_samples': trial.suggest_int('min_child_samples', 1, 50),\n",
    "        'cat_smooth' : trial.suggest_int('min_data_per_groups', 1, 100)\n",
    "    }\n",
    "    model = lgbm.LGBMRegressor(**param, verbosity=-1)  \n",
    "    \n",
    "    model.fit(X_train.drop(columns=exclude),y_train,eval_set=[(X_valid.drop(columns=exclude),y_valid)])\n",
    "    \n",
    "    preds = model.predict(X_test.drop(columns=exclude))\n",
    "    \n",
    "    mae = mean_absolute_error(y_true=y_test, y_pred=preds)\n",
    "    \n",
    "    return mae"
   ]
  },
  {
   "cell_type": "code",
   "execution_count": 84,
   "metadata": {},
   "outputs": [
    {
     "name": "stderr",
     "output_type": "stream",
     "text": [
      "[I 2023-09-17 23:47:08,872] A new study created in memory with name: no-name-5996459b-53f0-4e18-8a8e-070324bc97bc\n",
      "C:\\Users\\Kyle\\AppData\\Local\\Temp\\ipykernel_11720\\2965857004.py:13: FutureWarning: suggest_loguniform has been deprecated in v3.0.0. This feature will be removed in v6.0.0. See https://github.com/optuna/optuna/releases/tag/v3.0.0. Use suggest_float(..., log=True) instead.\n",
      "  'reg_alpha': trial.suggest_loguniform('reg_alpha', 1e-3, 10.0),\n",
      "C:\\Users\\Kyle\\AppData\\Local\\Temp\\ipykernel_11720\\2965857004.py:14: FutureWarning: suggest_loguniform has been deprecated in v3.0.0. This feature will be removed in v6.0.0. See https://github.com/optuna/optuna/releases/tag/v3.0.0. Use suggest_float(..., log=True) instead.\n",
      "  'reg_lambda': trial.suggest_loguniform('reg_lambda', 1e-3, 10.0),\n",
      "[I 2023-09-17 23:47:10,156] Trial 0 finished with value: 12.589359031903342 and parameters: {'reg_alpha': 0.07514393027565656, 'reg_lambda': 1.9698579785333195, 'colsample_bytree': 0.6, 'subsample': 0.3, 'max_depth': 1, 'num_leaves': 951, 'min_child_samples': 9, 'min_data_per_groups': 73}. Best is trial 0 with value: 12.589359031903342.\n",
      "C:\\Users\\Kyle\\AppData\\Local\\Temp\\ipykernel_11720\\2965857004.py:13: FutureWarning: suggest_loguniform has been deprecated in v3.0.0. This feature will be removed in v6.0.0. See https://github.com/optuna/optuna/releases/tag/v3.0.0. Use suggest_float(..., log=True) instead.\n",
      "  'reg_alpha': trial.suggest_loguniform('reg_alpha', 1e-3, 10.0),\n",
      "C:\\Users\\Kyle\\AppData\\Local\\Temp\\ipykernel_11720\\2965857004.py:14: FutureWarning: suggest_loguniform has been deprecated in v3.0.0. This feature will be removed in v6.0.0. See https://github.com/optuna/optuna/releases/tag/v3.0.0. Use suggest_float(..., log=True) instead.\n",
      "  'reg_lambda': trial.suggest_loguniform('reg_lambda', 1e-3, 10.0),\n",
      "[I 2023-09-17 23:47:19,311] Trial 1 finished with value: 12.513684250527303 and parameters: {'reg_alpha': 4.396159759657165, 'reg_lambda': 0.014740465862558087, 'colsample_bytree': 0.7, 'subsample': 1.0, 'max_depth': 6, 'num_leaves': 206, 'min_child_samples': 2, 'min_data_per_groups': 81}. Best is trial 1 with value: 12.513684250527303.\n"
     ]
    },
    {
     "name": "stdout",
     "output_type": "stream",
     "text": [
      "Number of finished trials: 2\n",
      "Best trial: {'reg_alpha': 4.396159759657165, 'reg_lambda': 0.014740465862558087, 'colsample_bytree': 0.7, 'subsample': 1.0, 'max_depth': 6, 'num_leaves': 206, 'min_child_samples': 2, 'min_data_per_groups': 81}\n"
     ]
    }
   ],
   "source": [
    "study = optuna.create_study(direction='minimize')\n",
    "study.optimize(objective, n_trials=2)\n",
    "print('Number of finished trials:', len(study.trials))\n",
    "print('Best trial:', study.best_trial.params)"
   ]
  },
  {
   "cell_type": "code",
   "execution_count": 79,
   "metadata": {},
   "outputs": [
    {
     "data": {
      "text/plain": [
       "12.389709012965506"
      ]
     },
     "execution_count": 79,
     "metadata": {},
     "output_type": "execute_result"
    }
   ],
   "source": [
    "study.best_value"
   ]
  },
  {
   "cell_type": "code",
   "execution_count": 80,
   "metadata": {},
   "outputs": [
    {
     "data": {
      "text/plain": [
       "{'reg_alpha': 3.9740293140705107,\n",
       " 'reg_lambda': 1.881540488130314,\n",
       " 'colsample_bytree': 1.0,\n",
       " 'subsample': 0.6,\n",
       " 'max_depth': 4,\n",
       " 'num_leaves': 873,\n",
       " 'min_child_samples': 42,\n",
       " 'min_data_per_groups': 92}"
      ]
     },
     "execution_count": 80,
     "metadata": {},
     "output_type": "execute_result"
    }
   ],
   "source": [
    "study.best_params"
   ]
  },
  {
   "attachments": {},
   "cell_type": "markdown",
   "metadata": {},
   "source": [
    "# Eval"
   ]
  },
  {
   "attachments": {},
   "cell_type": "markdown",
   "metadata": {},
   "source": [
    "Feature Importance"
   ]
  },
  {
   "cell_type": "code",
   "execution_count": 20,
   "metadata": {},
   "outputs": [],
   "source": [
    "feat_imp = pd.DataFrame({\"feat\": lgbm_reg.feature_name_, \"imp\": lgbm_reg.feature_importances_}).sort_values(by=\"imp\", ascending=False)"
   ]
  },
  {
   "cell_type": "code",
   "execution_count": 21,
   "metadata": {},
   "outputs": [],
   "source": [
    "y_preds = lgbm_reg.predict(X_test.drop(columns=exclude))"
   ]
  },
  {
   "cell_type": "code",
   "execution_count": 22,
   "metadata": {},
   "outputs": [],
   "source": [
    "y_preds = pd.Series(y_preds, name=\"preds\")"
   ]
  },
  {
   "cell_type": "code",
   "execution_count": 24,
   "metadata": {},
   "outputs": [
    {
     "data": {
      "text/plain": [
       "count    799.000000\n",
       "mean      12.416205\n",
       "std        9.288164\n",
       "min        0.058015\n",
       "25%        4.983723\n",
       "50%       10.738057\n",
       "75%       17.852960\n",
       "max       51.848935\n",
       "Name: mae, dtype: float64"
      ]
     },
     "execution_count": 24,
     "metadata": {},
     "output_type": "execute_result"
    }
   ],
   "source": [
    "eval_df = pd.DataFrame({\"preds\": y_preds, \"actual\": y_test[\"margin\"].reset_index(drop=True)})\n",
    "eval_df[\"mae\"] = abs(eval_df[\"preds\"] - eval_df[\"actual\"])\n",
    "eval_df[\"mae\"].describe()"
   ]
  },
  {
   "cell_type": "code",
   "execution_count": 54,
   "metadata": {},
   "outputs": [
    {
     "data": {
      "image/png": "[encoded data removed]",
      "text/plain": [
       "<Figure size 640x480 with 1 Axes>"
      ]
     },
     "metadata": {},
     "output_type": "display_data"
    }
   ],
   "source": [
    "import matplotlib.pyplot as plt \n",
    "import numpy as np    \n",
    "\n",
    "def abline(slope, intercept):\n",
    "    \"\"\"Plot a line from slope and intercept\"\"\"\n",
    "    axes = plt.gca()\n",
    "    x_vals = np.array(axes.get_xlim())\n",
    "    y_vals = intercept + slope * x_vals\n",
    "    plt.plot(x_vals, y_vals, '--')\n",
    "\n",
    "eval_df.plot(x=\"preds\", y=\"actual\", kind=\"scatter\")\n",
    "abline(1, 0)"
   ]
  },
  {
   "cell_type": "code",
   "execution_count": 64,
   "metadata": {},
   "outputs": [
    {
     "data": {
      "text/plain": [
       "<Axes: xlabel='bucket'>"
      ]
     },
     "execution_count": 64,
     "metadata": {},
     "output_type": "execute_result"
    },
    {
     "data": {
      "image/png": "[encoded data removed]",
      "text/plain": [
       "<Figure size 640x480 with 1 Axes>"
      ]
     },
     "metadata": {},
     "output_type": "display_data"
    }
   ],
   "source": [
    "eval_df.assign(bucket=round(eval_df[\"preds\"], 0)).groupby(\"bucket\")[\"actual\"].agg([\"mean\", \"count\"]).query(\"count > 10\")[\"mean\"].plot()"
   ]
  },
  {
   "attachments": {},
   "cell_type": "markdown",
   "metadata": {},
   "source": [
    "Compare to straight up, ATS."
   ]
  },
  {
   "cell_type": "code",
   "execution_count": 25,
   "metadata": {},
   "outputs": [
    {
     "data": {
      "text/html": [
       "<div>\n",
       "<style scoped>\n",
       "    .dataframe tbody tr th:only-of-type {\n",
       "        vertical-align: middle;\n",
       "    }\n",
       "\n",
       "    .dataframe tbody tr th {\n",
       "        vertical-align: top;\n",
       "    }\n",
       "\n",
       "    .dataframe thead th {\n",
       "        text-align: right;\n",
       "    }\n",
       "</style>\n",
       "<table border=\"1\" class=\"dataframe\">\n",
       "  <thead>\n",
       "    <tr style=\"text-align: right;\">\n",
       "      <th></th>\n",
       "      <th>mae</th>\n",
       "      <th>spread_mae</th>\n",
       "    </tr>\n",
       "  </thead>\n",
       "  <tbody>\n",
       "    <tr>\n",
       "      <th>count</th>\n",
       "      <td>799.000000</td>\n",
       "      <td>784.000000</td>\n",
       "    </tr>\n",
       "    <tr>\n",
       "      <th>mean</th>\n",
       "      <td>12.416205</td>\n",
       "      <td>12.172194</td>\n",
       "    </tr>\n",
       "    <tr>\n",
       "      <th>std</th>\n",
       "      <td>9.288164</td>\n",
       "      <td>9.257544</td>\n",
       "    </tr>\n",
       "    <tr>\n",
       "      <th>min</th>\n",
       "      <td>0.058015</td>\n",
       "      <td>0.000000</td>\n",
       "    </tr>\n",
       "    <tr>\n",
       "      <th>25%</th>\n",
       "      <td>4.983723</td>\n",
       "      <td>5.000000</td>\n",
       "    </tr>\n",
       "    <tr>\n",
       "      <th>50%</th>\n",
       "      <td>10.738057</td>\n",
       "      <td>10.500000</td>\n",
       "    </tr>\n",
       "    <tr>\n",
       "      <th>75%</th>\n",
       "      <td>17.852960</td>\n",
       "      <td>17.125000</td>\n",
       "    </tr>\n",
       "    <tr>\n",
       "      <th>max</th>\n",
       "      <td>51.848935</td>\n",
       "      <td>59.000000</td>\n",
       "    </tr>\n",
       "  </tbody>\n",
       "</table>\n",
       "</div>"
      ],
      "text/plain": [
       "              mae  spread_mae\n",
       "count  799.000000  784.000000\n",
       "mean    12.416205   12.172194\n",
       "std      9.288164    9.257544\n",
       "min      0.058015    0.000000\n",
       "25%      4.983723    5.000000\n",
       "50%     10.738057   10.500000\n",
       "75%     17.852960   17.125000\n",
       "max     51.848935   59.000000"
      ]
     },
     "execution_count": 25,
     "metadata": {},
     "output_type": "execute_result"
    }
   ],
   "source": [
    "eval_df[\"spread\"] = X_test.spread.reset_index(drop=True)\n",
    "eval_df[\"spread_mae\"] = abs(eval_df[\"spread\"] - eval_df[\"actual\"])\n",
    "eval_df.filter(like=\"mae\").describe()"
   ]
  },
  {
   "attachments": {},
   "cell_type": "markdown",
   "metadata": {},
   "source": [
    "Straight Up"
   ]
  },
  {
   "attachments": {},
   "cell_type": "markdown",
   "metadata": {},
   "source": [
    "Model:"
   ]
  },
  {
   "cell_type": "code",
   "execution_count": 26,
   "metadata": {},
   "outputs": [],
   "source": [
    "straight_up = (np.sign(eval_df[\"preds\"]) == np.sign(eval_df[\"actual\"])).sum() / len(eval_df)"
   ]
  },
  {
   "attachments": {},
   "cell_type": "markdown",
   "metadata": {},
   "source": [
    "Spread:"
   ]
  },
  {
   "cell_type": "code",
   "execution_count": 27,
   "metadata": {},
   "outputs": [],
   "source": [
    "straight_up_vs_spread = straight_up - ((np.sign(eval_df[\"spread\"]) == np.sign(eval_df[\"actual\"])).sum() / len(eval_df))"
   ]
  },
  {
   "attachments": {},
   "cell_type": "markdown",
   "metadata": {},
   "source": [
    "ATS"
   ]
  },
  {
   "cell_type": "code",
   "execution_count": 28,
   "metadata": {},
   "outputs": [],
   "source": [
    "ats = (abs(eval_df[\"preds\"] - eval_df[\"actual\"]) < abs(eval_df[\"spread\"] - eval_df[\"actual\"])).sum() / len(eval_df[\"spread\"].dropna())"
   ]
  },
  {
   "attachments": {},
   "cell_type": "markdown",
   "metadata": {},
   "source": [
    "# Save Model"
   ]
  },
  {
   "cell_type": "code",
   "execution_count": null,
   "metadata": {},
   "outputs": [],
   "source": [
    "date = format(datetime.today(), \"%Y-%m-%d-%H-%M\")\n",
    "model_name = f\"model-{date}\""
   ]
  },
  {
   "cell_type": "code",
   "execution_count": 32,
   "metadata": {},
   "outputs": [],
   "source": [
    "with open(f\"./{model_name}.pickle\", \"wb\") as f:\n",
    "    pickle.dump(lgbm_reg, f)"
   ]
  },
  {
   "attachments": {},
   "cell_type": "markdown",
   "metadata": {},
   "source": [
    "Log Model Results"
   ]
  },
  {
   "cell_type": "code",
   "execution_count": 29,
   "metadata": {},
   "outputs": [
    {
     "data": {
      "text/plain": [
       "{'best_mae': 268.9099732241554,\n",
       " 'ats': 0.49489795918367346,\n",
       " 'straight_up': 0.753441802252816,\n",
       " 'straight_up_vs_spread': 0.01001251564455563,\n",
       " 'top_feats':                     feat    imp\n",
       " 8                 spread  10190\n",
       " 11  returning_svd_1_away   3294\n",
       " 4               home_elo   2628\n",
       " 9   returning_svd_1_home   2578\n",
       " 12  returning_svd_2_away   2349\n",
       " 55      opp_avg_elo_away   2049\n",
       " 6               away_elo   2029\n",
       " 10  returning_svd_2_home   1934\n",
       " 51      opp_avg_elo_home   1912\n",
       " 50   opp_avg_points_home   1773}"
      ]
     },
     "execution_count": 29,
     "metadata": {},
     "output_type": "execute_result"
    }
   ],
   "source": [
    "eval_dict = {\n",
    "    \"best_mae\": lgbm_reg.best_score_[\"valid_0\"][\"l2\"],\n",
    "    \"ats\": ats,\n",
    "    \"straight_up\": straight_up,\n",
    "    \"straight_up_vs_spread\": straight_up_vs_spread,\n",
    "    \"top_feats\": feat_imp.head(10),\n",
    "}\n",
    "\n",
    "eval_dict"
   ]
  },
  {
   "cell_type": "code",
   "execution_count": 30,
   "metadata": {},
   "outputs": [],
   "source": [
    "with open(f\"./eval-{model_name}.txt\", \"w\") as f:\n",
    "    f.write(str(eval_dict))"
   ]
  },
  {
   "attachments": {},
   "cell_type": "markdown",
   "metadata": {},
   "source": [
    "Compare to Previous Model"
   ]
  }
 ],
 "metadata": {
  "kernelspec": {
   "display_name": ".venv",
   "language": "python",
   "name": "python3"
  },
  "language_info": {
   "codemirror_mode": {
    "name": "ipython",
    "version": 3
   },
   "file_extension": ".py",
   "mimetype": "text/x-python",
   "name": "python",
   "nbconvert_exporter": "python",
   "pygments_lexer": "ipython3",
   "version": "3.11.0"
  },
  "orig_nbformat": 4
 },
 "nbformat": 4,
 "nbformat_minor": 2
}
