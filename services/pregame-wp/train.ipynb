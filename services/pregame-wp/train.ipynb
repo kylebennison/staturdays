{
 "cells": [
  {
   "cell_type": "code",
   "execution_count": 1,
   "metadata": {},
   "outputs": [
    {
     "name": "stderr",
     "output_type": "stream",
     "text": [
      "c:\\Users\\Kyle\\Documents\\Projects\\staturdays\\.venv\\Lib\\site-packages\\tqdm\\auto.py:21: TqdmWarning: IProgress not found. Please update jupyter and ipywidgets. See https://ipywidgets.readthedocs.io/en/stable/user_install.html\n",
      "  from .autonotebook import tqdm as notebook_tqdm\n"
     ]
    }
   ],
   "source": [
    "\"\"\"\n",
    "\n",
    "Ref: https://blog.collegefootballdata.com/talking-tech-building-an-artifical-neural-network-to/\n",
    "\n",
    "\"\"\"\n",
    "import cfbd\n",
    "import numpy as np\n",
    "import pandas as pd\n",
    "import os\n",
    "import lightgbm as lgbm\n",
    "from sklearn.model_selection import train_test_split\n",
    "import optuna\n",
    "\n",
    "from sklearn.decomposition import TruncatedSVD\n",
    "from sklearn.preprocessing import StandardScaler\n",
    "from sklearn.pipeline import make_pipeline\n",
    "\n",
    "from fastai.tabular import *\n",
    "from fastai.tabular.all import *"
   ]
  },
  {
   "cell_type": "code",
   "execution_count": 2,
   "metadata": {},
   "outputs": [],
   "source": [
    "configuration = cfbd.Configuration()\n",
    "configuration.api_key['Authorization'] = os.getenv(\"CFBD_API\")\n",
    "configuration.api_key_prefix['Authorization'] = 'Bearer'\n",
    "\n",
    "api_config = cfbd.ApiClient(configuration)"
   ]
  },
  {
   "cell_type": "code",
   "execution_count": 3,
   "metadata": {},
   "outputs": [],
   "source": [
    "teams_api = cfbd.TeamsApi(api_config)\n",
    "ratings_api = cfbd.RatingsApi(api_config)\n",
    "games_api = cfbd.GamesApi(api_config)\n",
    "stats_api = cfbd.StatsApi(api_config)\n",
    "betting_api = cfbd.BettingApi(api_config)\n",
    "player_api = cfbd.PlayersApi(api_config)"
   ]
  },
  {
   "cell_type": "code",
   "execution_count": 54,
   "metadata": {},
   "outputs": [],
   "source": [
    "run_type = \"predict\""
   ]
  },
  {
   "cell_type": "code",
   "execution_count": 55,
   "metadata": {},
   "outputs": [
    {
     "name": "stdout",
     "output_type": "stream",
     "text": [
      "Getting year 2023\n"
     ]
    }
   ],
   "source": [
    "games = []\n",
    "lines = []\n",
    "if run_type == \"train\":\n",
    "    start = 2015\n",
    "    end = 2023\n",
    "\n",
    "elif run_type == \"predict\":\n",
    "    start = 2023\n",
    "    end = 2024\n",
    "\n",
    "for year in range(start, end):\n",
    "    print(f\"Getting year {year}\")\n",
    "    response = games_api.get_games(year=year)\n",
    "    games = [*games, *response]\n",
    "\n",
    "    response = betting_api.get_lines(year=year)\n",
    "    lines = [*lines, *response]"
   ]
  },
  {
   "attachments": {},
   "cell_type": "markdown",
   "metadata": {},
   "source": [
    "Filter data"
   ]
  },
  {
   "cell_type": "code",
   "execution_count": 56,
   "metadata": {},
   "outputs": [],
   "source": [
    "if run_type == \"train\":\n",
    "    games = [g for g in games if g.home_conference is not None and g.away_conference is not None and g.home_points is not None and g.away_points is not None]\n",
    "    len(games)\n",
    "elif run_type == \"predict\":\n",
    "    games = [g for g in games if g.home_conference is not None and g.away_conference is not None and g.home_points is None and g.away_points is None]\n",
    "    len(games)"
   ]
  },
  {
   "cell_type": "code",
   "execution_count": 57,
   "metadata": {},
   "outputs": [],
   "source": [
    "# TODO: Can keep more features as desired\n",
    "games = [\n",
    "    dict(\n",
    "        id = g.id,\n",
    "        year = g.season,\n",
    "        week = g.week,\n",
    "        neutral_site = g.neutral_site,\n",
    "        home_team = g.home_team,\n",
    "        home_conference = g.home_conference,\n",
    "        home_points = g.home_points,\n",
    "        home_elo = g.home_pregame_elo,\n",
    "        away_team = g.away_team,\n",
    "        away_conference = g.away_conference,\n",
    "        away_points = g.away_points,\n",
    "        away_elo = g.away_pregame_elo\n",
    "    ) for g in games]"
   ]
  },
  {
   "cell_type": "code",
   "execution_count": 58,
   "metadata": {},
   "outputs": [
    {
     "data": {
      "text/plain": [
       "{'id': 401545860,\n",
       " 'year': 2023,\n",
       " 'week': 1,\n",
       " 'neutral_site': False,\n",
       " 'home_team': 'Alderson-Broaddus',\n",
       " 'home_conference': 'Mountain East',\n",
       " 'home_points': None,\n",
       " 'home_elo': None,\n",
       " 'away_team': 'California (PA)',\n",
       " 'away_conference': 'Pennsylvania State Athletic',\n",
       " 'away_points': None,\n",
       " 'away_elo': None}"
      ]
     },
     "execution_count": 58,
     "metadata": {},
     "output_type": "execute_result"
    }
   ],
   "source": [
    "games[0]"
   ]
  },
  {
   "cell_type": "code",
   "execution_count": 59,
   "metadata": {},
   "outputs": [
    {
     "name": "stderr",
     "output_type": "stream",
     "text": [
      "c:\\Users\\Kyle\\Documents\\Projects\\staturdays\\.venv\\Lib\\site-packages\\numpy\\core\\fromnumeric.py:3432: RuntimeWarning: Mean of empty slice.\n",
      "  return _methods._mean(a, axis=axis, dtype=dtype,\n",
      "c:\\Users\\Kyle\\Documents\\Projects\\staturdays\\.venv\\Lib\\site-packages\\numpy\\core\\_methods.py:190: RuntimeWarning: invalid value encountered in double_scalars\n",
      "  ret = ret.dtype.type(ret / rcount)\n"
     ]
    }
   ],
   "source": [
    "# Add spread to games object if a consensus spread is available\n",
    "for game in games:\n",
    "    game_lines = [l for l in lines if l.id == game['id']]\n",
    "\n",
    "    if len(game_lines) > 0:\n",
    "        game_line = [l for l in game_lines[0].lines if l.provider == 'consensus']\n",
    "\n",
    "        if len(game_line) > 0 and game_line[0].spread is not None:\n",
    "            game['spread'] = float(game_line[0].spread)\n",
    "\n",
    "        elif len(game_line) == 0:\n",
    "            game_spread = np.mean([l.spread for l in game_lines[0].lines if l.spread is not None])\n",
    "            game[\"spread\"] = float(game_spread)\n",
    "\n",
    "            "
   ]
  },
  {
   "cell_type": "code",
   "execution_count": 60,
   "metadata": {},
   "outputs": [],
   "source": [
    "# Filter out games without spread\n",
    "games = [g for g in games if 'spread' in g and g['spread'] is not None and not np.isnan(g[\"spread\"])]"
   ]
  },
  {
   "cell_type": "code",
   "execution_count": 61,
   "metadata": {},
   "outputs": [],
   "source": [
    "if run_type == \"train\":\n",
    "    for game in games:\n",
    "        game['margin'] = game['away_points'] - game['home_points']"
   ]
  },
  {
   "cell_type": "code",
   "execution_count": 62,
   "metadata": {},
   "outputs": [
    {
     "data": {
      "text/html": [
       "<div>\n",
       "<style scoped>\n",
       "    .dataframe tbody tr th:only-of-type {\n",
       "        vertical-align: middle;\n",
       "    }\n",
       "\n",
       "    .dataframe tbody tr th {\n",
       "        vertical-align: top;\n",
       "    }\n",
       "\n",
       "    .dataframe thead th {\n",
       "        text-align: right;\n",
       "    }\n",
       "</style>\n",
       "<table border=\"1\" class=\"dataframe\">\n",
       "  <thead>\n",
       "    <tr style=\"text-align: right;\">\n",
       "      <th></th>\n",
       "      <th>id</th>\n",
       "      <th>year</th>\n",
       "      <th>week</th>\n",
       "      <th>neutral_site</th>\n",
       "      <th>home_team</th>\n",
       "      <th>home_conference</th>\n",
       "      <th>home_points</th>\n",
       "      <th>home_elo</th>\n",
       "      <th>away_team</th>\n",
       "      <th>away_conference</th>\n",
       "      <th>away_points</th>\n",
       "      <th>away_elo</th>\n",
       "      <th>spread</th>\n",
       "    </tr>\n",
       "  </thead>\n",
       "  <tbody>\n",
       "    <tr>\n",
       "      <th>0</th>\n",
       "      <td>401520195</td>\n",
       "      <td>2023</td>\n",
       "      <td>2</td>\n",
       "      <td>False</td>\n",
       "      <td>Kansas</td>\n",
       "      <td>Big 12</td>\n",
       "      <td>None</td>\n",
       "      <td>1194.0</td>\n",
       "      <td>Illinois</td>\n",
       "      <td>Big Ten</td>\n",
       "      <td>None</td>\n",
       "      <td>1499.0</td>\n",
       "      <td>-2.75</td>\n",
       "    </tr>\n",
       "    <tr>\n",
       "      <th>1</th>\n",
       "      <td>401520216</td>\n",
       "      <td>2023</td>\n",
       "      <td>2</td>\n",
       "      <td>False</td>\n",
       "      <td>Wake Forest</td>\n",
       "      <td>ACC</td>\n",
       "      <td>None</td>\n",
       "      <td>1640.0</td>\n",
       "      <td>Vanderbilt</td>\n",
       "      <td>SEC</td>\n",
       "      <td>None</td>\n",
       "      <td>1238.0</td>\n",
       "      <td>-10.00</td>\n",
       "    </tr>\n",
       "    <tr>\n",
       "      <th>2</th>\n",
       "      <td>401520191</td>\n",
       "      <td>2023</td>\n",
       "      <td>2</td>\n",
       "      <td>False</td>\n",
       "      <td>Georgia</td>\n",
       "      <td>SEC</td>\n",
       "      <td>None</td>\n",
       "      <td>1980.0</td>\n",
       "      <td>Ball State</td>\n",
       "      <td>Mid-American</td>\n",
       "      <td>None</td>\n",
       "      <td>1350.0</td>\n",
       "      <td>-42.00</td>\n",
       "    </tr>\n",
       "    <tr>\n",
       "      <th>3</th>\n",
       "      <td>401523999</td>\n",
       "      <td>2023</td>\n",
       "      <td>2</td>\n",
       "      <td>False</td>\n",
       "      <td>Baylor</td>\n",
       "      <td>Big 12</td>\n",
       "      <td>None</td>\n",
       "      <td>1643.0</td>\n",
       "      <td>Utah</td>\n",
       "      <td>Pac-12</td>\n",
       "      <td>None</td>\n",
       "      <td>1804.0</td>\n",
       "      <td>3.25</td>\n",
       "    </tr>\n",
       "    <tr>\n",
       "      <th>4</th>\n",
       "      <td>401525436</td>\n",
       "      <td>2023</td>\n",
       "      <td>2</td>\n",
       "      <td>False</td>\n",
       "      <td>NC State</td>\n",
       "      <td>ACC</td>\n",
       "      <td>None</td>\n",
       "      <td>1635.0</td>\n",
       "      <td>Notre Dame</td>\n",
       "      <td>FBS Independents</td>\n",
       "      <td>None</td>\n",
       "      <td>1909.0</td>\n",
       "      <td>7.75</td>\n",
       "    </tr>\n",
       "  </tbody>\n",
       "</table>\n",
       "</div>"
      ],
      "text/plain": [
       "          id  year  week  neutral_site    home_team home_conference  \\\n",
       "0  401520195  2023     2         False       Kansas          Big 12   \n",
       "1  401520216  2023     2         False  Wake Forest             ACC   \n",
       "2  401520191  2023     2         False      Georgia             SEC   \n",
       "3  401523999  2023     2         False       Baylor          Big 12   \n",
       "4  401525436  2023     2         False     NC State             ACC   \n",
       "\n",
       "  home_points  home_elo   away_team   away_conference away_points  away_elo  \\\n",
       "0        None    1194.0    Illinois           Big Ten        None    1499.0   \n",
       "1        None    1640.0  Vanderbilt               SEC        None    1238.0   \n",
       "2        None    1980.0  Ball State      Mid-American        None    1350.0   \n",
       "3        None    1643.0        Utah            Pac-12        None    1804.0   \n",
       "4        None    1635.0  Notre Dame  FBS Independents        None    1909.0   \n",
       "\n",
       "   spread  \n",
       "0   -2.75  \n",
       "1  -10.00  \n",
       "2  -42.00  \n",
       "3    3.25  \n",
       "4    7.75  "
      ]
     },
     "execution_count": 62,
     "metadata": {},
     "output_type": "execute_result"
    }
   ],
   "source": [
    "if run_type == \"train\":\n",
    "    df = pd.DataFrame.from_records(games).dropna()\n",
    "else:\n",
    "    df = pd.DataFrame.from_records(games)\n",
    "df.head()"
   ]
  },
  {
   "cell_type": "code",
   "execution_count": 67,
   "metadata": {},
   "outputs": [
    {
     "data": {
      "text/plain": [
       "['home_elo', 'away_elo', 'spread']"
      ]
     },
     "execution_count": 67,
     "metadata": {},
     "output_type": "execute_result"
    }
   ],
   "source": [
    "# Define feature groupings\n",
    "excluded = ['id','year','week','home_team','away_team','margin', 'home_points', 'away_points']\n",
    "cat_features = ['home_conference','away_conference','neutral_site']\n",
    "cont_features = [c for c in df.columns.to_list() if c not in cat_features and c not in excluded]\n",
    "target = [\"margin\"]\n",
    "\n",
    "cont_features"
   ]
  },
  {
   "cell_type": "code",
   "execution_count": 68,
   "metadata": {},
   "outputs": [],
   "source": [
    "power_5 = [\"Big Ten\", \"ACC\", \"SEC\", \"Big 12\", \"Pac-12\"]\n",
    "\n",
    "df[\"home_conference\"] = np.where(df[\"home_conference\"].isin(power_5), df[\"home_conference\"], \"Other\")\n",
    "df[\"away_conference\"] = np.where(df[\"away_conference\"].isin(power_5), df[\"away_conference\"], \"Other\")"
   ]
  },
  {
   "cell_type": "code",
   "execution_count": 69,
   "metadata": {},
   "outputs": [],
   "source": [
    "# Clean up features\n",
    "cat_df = pd.get_dummies(df[cat_features], drop_first=True)\n",
    "df = pd.concat([df, cat_df], axis=1)\n",
    "df = df.drop(columns=cat_features)\n",
    "\n",
    "# Clean column names\n",
    "df.columns = [c.lower().replace(\" \", \"_\").replace(\"-\", \"_\") for c in df.columns]"
   ]
  },
  {
   "attachments": {},
   "cell_type": "markdown",
   "metadata": {},
   "source": [
    "Returning"
   ]
  },
  {
   "cell_type": "code",
   "execution_count": null,
   "metadata": {},
   "outputs": [],
   "source": [
    "returning = player_api.get_returning_production(year=2023)\n",
    "returning_list = [\n",
    "    dict(\n",
    "        team = g.team,\n",
    "        year = g.season,\n",
    "        passing_usage = g.passing_usage,\n",
    "        percent_passing_ppa = g.percent_passing_ppa,\n",
    "        percent_ppa = g.percent_ppa,\n",
    "        percent_receiving_ppa = g.percent_receiving_ppa,\n",
    "        percent_rushing_ppa = g.percent_rushing_ppa,\n",
    "        receiving_usage = g.receiving_usage,\n",
    "        rushing_usage = g.rushing_usage,\n",
    "        total_passing_ppa = g.total_passing_ppa,\n",
    "        total_ppa = g.total_ppa,\n",
    "        total_receiving_ppa = g.total_receiving_ppa,\n",
    "        total_rushing_ppa = g.total_rushing_ppa,\n",
    "    ) for g in returning]\n",
    "returning_df = pd.DataFrame.from_records(returning_list)\n",
    "returning_df = returning_df.fillna(returning_df.mean(numeric_only=True))\n",
    "pl = make_pipeline(\n",
    "    StandardScaler(),\n",
    "    TruncatedSVD(n_components=2, random_state=0)\n",
    ")\n",
    "key_cols = [\"team\", \"year\"]\n",
    "svd_cols = [c for c in returning_df if c not in key_cols]\n",
    "pl_res = pl.fit_transform(returning_df.loc[:, svd_cols])\n",
    "svd_df = pd.DataFrame(pl_res, columns=[\"returning_svd_1\", \"returning_svd_2\"])\n",
    "returning_df = returning_df.drop(columns=svd_cols)\n",
    "returning_df = pd.concat([returning_df, svd_df], axis=1)\n",
    "df = pd.merge(df, returning_df, how=\"left\", left_on=[\"year\", \"home_team\"], right_on=[\"year\", \"team\"])\n",
    "df = pd.merge(df, returning_df, how=\"left\", left_on=[\"year\", \"away_team\"], right_on=[\"year\", \"team\"], suffixes=[\"_home\", \"_away\"])"
   ]
  },
  {
   "attachments": {},
   "cell_type": "markdown",
   "metadata": {},
   "source": [
    "## Split data"
   ]
  },
  {
   "cell_type": "code",
   "execution_count": 70,
   "metadata": {},
   "outputs": [],
   "source": [
    "test_year = df.year.max()\n",
    "test_df = df.query(f\"year == {test_year}\")\n",
    "train_df = df.query(f\"year != {test_year}\")"
   ]
  },
  {
   "cell_type": "code",
   "execution_count": 71,
   "metadata": {},
   "outputs": [
    {
     "data": {
      "text/plain": [
       "((0, 20), (111, 20))"
      ]
     },
     "execution_count": 71,
     "metadata": {},
     "output_type": "execute_result"
    }
   ],
   "source": [
    "train_df.shape, test_df.shape"
   ]
  },
  {
   "cell_type": "code",
   "execution_count": 72,
   "metadata": {},
   "outputs": [],
   "source": [
    "if run_type == \"train\":\n",
    "    X_train, y_train = train_df.loc[:, ~train_df.columns.isin(excluded+target)], train_df[target]\n",
    "    X_test, y_test = test_df.loc[:, ~test_df.columns.isin(excluded+target)], test_df[target]\n",
    "elif run_type == \"predict\":\n",
    "    X_test = test_df.loc[:, ~test_df.columns.isin(excluded+target)]"
   ]
  },
  {
   "cell_type": "code",
   "execution_count": 42,
   "metadata": {},
   "outputs": [],
   "source": [
    "# Split train and valid\n",
    "X_train, X_valid, y_train, y_valid = train_test_split(X_train, y_train, test_size=.2, random_state=0)"
   ]
  },
  {
   "attachments": {},
   "cell_type": "markdown",
   "metadata": {},
   "source": [
    "# Training"
   ]
  },
  {
   "cell_type": "code",
   "execution_count": 43,
   "metadata": {},
   "outputs": [
    {
     "name": "stdout",
     "output_type": "stream",
     "text": [
      "[LightGBM] [Warning] Auto-choosing row-wise multi-threading, the overhead of testing was 0.000067 seconds.\n",
      "You can set `force_row_wise=true` to remove the overhead.\n",
      "And if memory is not enough, you can set `force_col_wise=true`.\n",
      "[LightGBM] [Info] Total Bins 678\n",
      "[LightGBM] [Info] Number of data points in the train set: 3919, number of used features: 13\n",
      "[LightGBM] [Info] Start training from score -3.879051\n",
      "Training until validation scores don't improve for 10 rounds\n",
      "Early stopping, best iteration is:\n",
      "[37]\tvalid_0's l2: 279.956\n"
     ]
    },
    {
     "data": {
      "text/html": [
       "<style>#sk-container-id-2 {color: black;}#sk-container-id-2 pre{padding: 0;}#sk-container-id-2 div.sk-toggleable {background-color: white;}#sk-container-id-2 label.sk-toggleable__label {cursor: pointer;display: block;width: 100%;margin-bottom: 0;padding: 0.3em;box-sizing: border-box;text-align: center;}#sk-container-id-2 label.sk-toggleable__label-arrow:before {content: \"▸\";float: left;margin-right: 0.25em;color: #696969;}#sk-container-id-2 label.sk-toggleable__label-arrow:hover:before {color: black;}#sk-container-id-2 div.sk-estimator:hover label.sk-toggleable__label-arrow:before {color: black;}#sk-container-id-2 div.sk-toggleable__content {max-height: 0;max-width: 0;overflow: hidden;text-align: left;background-color: #f0f8ff;}#sk-container-id-2 div.sk-toggleable__content pre {margin: 0.2em;color: black;border-radius: 0.25em;background-color: #f0f8ff;}#sk-container-id-2 input.sk-toggleable__control:checked~div.sk-toggleable__content {max-height: 200px;max-width: 100%;overflow: auto;}#sk-container-id-2 input.sk-toggleable__control:checked~label.sk-toggleable__label-arrow:before {content: \"▾\";}#sk-container-id-2 div.sk-estimator input.sk-toggleable__control:checked~label.sk-toggleable__label {background-color: #d4ebff;}#sk-container-id-2 div.sk-label input.sk-toggleable__control:checked~label.sk-toggleable__label {background-color: #d4ebff;}#sk-container-id-2 input.sk-hidden--visually {border: 0;clip: rect(1px 1px 1px 1px);clip: rect(1px, 1px, 1px, 1px);height: 1px;margin: -1px;overflow: hidden;padding: 0;position: absolute;width: 1px;}#sk-container-id-2 div.sk-estimator {font-family: monospace;background-color: #f0f8ff;border: 1px dotted black;border-radius: 0.25em;box-sizing: border-box;margin-bottom: 0.5em;}#sk-container-id-2 div.sk-estimator:hover {background-color: #d4ebff;}#sk-container-id-2 div.sk-parallel-item::after {content: \"\";width: 100%;border-bottom: 1px solid gray;flex-grow: 1;}#sk-container-id-2 div.sk-label:hover label.sk-toggleable__label {background-color: #d4ebff;}#sk-container-id-2 div.sk-serial::before {content: \"\";position: absolute;border-left: 1px solid gray;box-sizing: border-box;top: 0;bottom: 0;left: 50%;z-index: 0;}#sk-container-id-2 div.sk-serial {display: flex;flex-direction: column;align-items: center;background-color: white;padding-right: 0.2em;padding-left: 0.2em;position: relative;}#sk-container-id-2 div.sk-item {position: relative;z-index: 1;}#sk-container-id-2 div.sk-parallel {display: flex;align-items: stretch;justify-content: center;background-color: white;position: relative;}#sk-container-id-2 div.sk-item::before, #sk-container-id-2 div.sk-parallel-item::before {content: \"\";position: absolute;border-left: 1px solid gray;box-sizing: border-box;top: 0;bottom: 0;left: 50%;z-index: -1;}#sk-container-id-2 div.sk-parallel-item {display: flex;flex-direction: column;z-index: 1;position: relative;background-color: white;}#sk-container-id-2 div.sk-parallel-item:first-child::after {align-self: flex-end;width: 50%;}#sk-container-id-2 div.sk-parallel-item:last-child::after {align-self: flex-start;width: 50%;}#sk-container-id-2 div.sk-parallel-item:only-child::after {width: 0;}#sk-container-id-2 div.sk-dashed-wrapped {border: 1px dashed gray;margin: 0 0.4em 0.5em 0.4em;box-sizing: border-box;padding-bottom: 0.4em;background-color: white;}#sk-container-id-2 div.sk-label label {font-family: monospace;font-weight: bold;display: inline-block;line-height: 1.2em;}#sk-container-id-2 div.sk-label-container {text-align: center;}#sk-container-id-2 div.sk-container {/* jupyter's `normalize.less` sets `[hidden] { display: none; }` but bootstrap.min.css set `[hidden] { display: none !important; }` so we also need the `!important` here to be able to override the default hidden behavior on the sphinx rendered scikit-learn.org. See: https://github.com/scikit-learn/scikit-learn/issues/21755 */display: inline-block !important;position: relative;}#sk-container-id-2 div.sk-text-repr-fallback {display: none;}</style><div id=\"sk-container-id-2\" class=\"sk-top-container\"><div class=\"sk-text-repr-fallback\"><pre>LGBMRegressor(early_stopping_round=10, objective=&#x27;regression&#x27;, random_state=0,\n",
       "              reg_alpha=1, reg_lambda=1, subsample=0.5, subsample_freq=1)</pre><b>In a Jupyter environment, please rerun this cell to show the HTML representation or trust the notebook. <br />On GitHub, the HTML representation is unable to render, please try loading this page with nbviewer.org.</b></div><div class=\"sk-container\" hidden><div class=\"sk-item\"><div class=\"sk-estimator sk-toggleable\"><input class=\"sk-toggleable__control sk-hidden--visually\" id=\"sk-estimator-id-2\" type=\"checkbox\" checked><label for=\"sk-estimator-id-2\" class=\"sk-toggleable__label sk-toggleable__label-arrow\">LGBMRegressor</label><div class=\"sk-toggleable__content\"><pre>LGBMRegressor(early_stopping_round=10, objective=&#x27;regression&#x27;, random_state=0,\n",
       "              reg_alpha=1, reg_lambda=1, subsample=0.5, subsample_freq=1)</pre></div></div></div></div></div>"
      ],
      "text/plain": [
       "LGBMRegressor(early_stopping_round=10, objective='regression', random_state=0,\n",
       "              reg_alpha=1, reg_lambda=1, subsample=0.5, subsample_freq=1)"
      ]
     },
     "execution_count": 43,
     "metadata": {},
     "output_type": "execute_result"
    }
   ],
   "source": [
    "# Model\n",
    "lgbm_reg = lgbm.LGBMRegressor(\n",
    "    boosting_type=\"gbdt\",\n",
    "    # num_leaves=100,\n",
    "    # max_depth=6,\n",
    "    learning_rate=0.1,\n",
    "    n_estimators=100,\n",
    "    objective=\"regression\",\n",
    "    # min_child_samples=20,\n",
    "    subsample=0.5,\n",
    "    subsample_freq=1, # subsample every time\n",
    "    reg_alpha=1,\n",
    "    reg_lambda=1,\n",
    "    random_state=0,\n",
    "    early_stopping_round=10\n",
    ")\n",
    "\n",
    "lgbm_reg.fit(\n",
    "    X=X_train, \n",
    "    y=y_train,\n",
    "    eval_set=(X_valid, y_valid),\n",
    "    )"
   ]
  },
  {
   "cell_type": "code",
   "execution_count": 44,
   "metadata": {},
   "outputs": [
    {
     "data": {
      "text/plain": [
       "{'valid_0': OrderedDict([('l2',\n",
       "               [464.11630309318485,\n",
       "                430.41512890652234,\n",
       "                402.00256033373824,\n",
       "                378.14938970074337,\n",
       "                359.8330132227578,\n",
       "                345.37759859111344,\n",
       "                331.85969268301966,\n",
       "                322.7248113238488,\n",
       "                314.6755318550774,\n",
       "                309.19075084170623,\n",
       "                303.7783302397453,\n",
       "                298.80726285471434,\n",
       "                295.10595371406504,\n",
       "                292.4528026009366,\n",
       "                289.89335269997423,\n",
       "                287.36800899013235,\n",
       "                286.3504149212807,\n",
       "                285.4380719464489,\n",
       "                283.7714871136929,\n",
       "                283.3571044599134,\n",
       "                282.80822192298814,\n",
       "                282.1031884954271,\n",
       "                281.81351937223496,\n",
       "                281.08816658685487,\n",
       "                280.9131662714876,\n",
       "                280.8243598824171,\n",
       "                280.6181702948406,\n",
       "                280.614458057514,\n",
       "                280.8911733280232,\n",
       "                281.02983960152244,\n",
       "                281.03917962932616,\n",
       "                280.05038676866354,\n",
       "                280.41756769584475,\n",
       "                280.4641348560958,\n",
       "                280.31479250144037,\n",
       "                280.5034380731617,\n",
       "                279.95599421291587,\n",
       "                280.150333130063,\n",
       "                280.1148532212067,\n",
       "                280.44431780295076,\n",
       "                280.9641024642125,\n",
       "                281.540389886778,\n",
       "                281.57597608348,\n",
       "                281.60854285381333,\n",
       "                281.4868297801343,\n",
       "                282.8310100517048,\n",
       "                283.14407341551606])])}"
      ]
     },
     "execution_count": 44,
     "metadata": {},
     "output_type": "execute_result"
    }
   ],
   "source": [
    "lgbm_reg.evals_result_"
   ]
  },
  {
   "cell_type": "code",
   "execution_count": 73,
   "metadata": {},
   "outputs": [
    {
     "data": {
      "text/html": [
       "<div>\n",
       "<style scoped>\n",
       "    .dataframe tbody tr th:only-of-type {\n",
       "        vertical-align: middle;\n",
       "    }\n",
       "\n",
       "    .dataframe tbody tr th {\n",
       "        vertical-align: top;\n",
       "    }\n",
       "\n",
       "    .dataframe thead th {\n",
       "        text-align: right;\n",
       "    }\n",
       "</style>\n",
       "<table border=\"1\" class=\"dataframe\">\n",
       "  <thead>\n",
       "    <tr style=\"text-align: right;\">\n",
       "      <th></th>\n",
       "      <th>home_elo</th>\n",
       "      <th>away_elo</th>\n",
       "      <th>spread</th>\n",
       "      <th>home_conference_big_12</th>\n",
       "      <th>home_conference_big_ten</th>\n",
       "      <th>home_conference_other</th>\n",
       "      <th>home_conference_pac_12</th>\n",
       "      <th>home_conference_sec</th>\n",
       "      <th>away_conference_big_12</th>\n",
       "      <th>away_conference_big_ten</th>\n",
       "      <th>away_conference_other</th>\n",
       "      <th>away_conference_pac_12</th>\n",
       "      <th>away_conference_sec</th>\n",
       "    </tr>\n",
       "  </thead>\n",
       "  <tbody>\n",
       "    <tr>\n",
       "      <th>0</th>\n",
       "      <td>1194.0</td>\n",
       "      <td>1499.0</td>\n",
       "      <td>-2.75</td>\n",
       "      <td>1</td>\n",
       "      <td>0</td>\n",
       "      <td>0</td>\n",
       "      <td>0</td>\n",
       "      <td>0</td>\n",
       "      <td>0</td>\n",
       "      <td>1</td>\n",
       "      <td>0</td>\n",
       "      <td>0</td>\n",
       "      <td>0</td>\n",
       "    </tr>\n",
       "    <tr>\n",
       "      <th>1</th>\n",
       "      <td>1640.0</td>\n",
       "      <td>1238.0</td>\n",
       "      <td>-10.00</td>\n",
       "      <td>0</td>\n",
       "      <td>0</td>\n",
       "      <td>0</td>\n",
       "      <td>0</td>\n",
       "      <td>0</td>\n",
       "      <td>0</td>\n",
       "      <td>0</td>\n",
       "      <td>0</td>\n",
       "      <td>0</td>\n",
       "      <td>1</td>\n",
       "    </tr>\n",
       "    <tr>\n",
       "      <th>2</th>\n",
       "      <td>1980.0</td>\n",
       "      <td>1350.0</td>\n",
       "      <td>-42.00</td>\n",
       "      <td>0</td>\n",
       "      <td>0</td>\n",
       "      <td>0</td>\n",
       "      <td>0</td>\n",
       "      <td>1</td>\n",
       "      <td>0</td>\n",
       "      <td>0</td>\n",
       "      <td>1</td>\n",
       "      <td>0</td>\n",
       "      <td>0</td>\n",
       "    </tr>\n",
       "    <tr>\n",
       "      <th>3</th>\n",
       "      <td>1643.0</td>\n",
       "      <td>1804.0</td>\n",
       "      <td>3.25</td>\n",
       "      <td>1</td>\n",
       "      <td>0</td>\n",
       "      <td>0</td>\n",
       "      <td>0</td>\n",
       "      <td>0</td>\n",
       "      <td>0</td>\n",
       "      <td>0</td>\n",
       "      <td>0</td>\n",
       "      <td>1</td>\n",
       "      <td>0</td>\n",
       "    </tr>\n",
       "    <tr>\n",
       "      <th>4</th>\n",
       "      <td>1635.0</td>\n",
       "      <td>1909.0</td>\n",
       "      <td>7.75</td>\n",
       "      <td>0</td>\n",
       "      <td>0</td>\n",
       "      <td>0</td>\n",
       "      <td>0</td>\n",
       "      <td>0</td>\n",
       "      <td>0</td>\n",
       "      <td>0</td>\n",
       "      <td>1</td>\n",
       "      <td>0</td>\n",
       "      <td>0</td>\n",
       "    </tr>\n",
       "    <tr>\n",
       "      <th>...</th>\n",
       "      <td>...</td>\n",
       "      <td>...</td>\n",
       "      <td>...</td>\n",
       "      <td>...</td>\n",
       "      <td>...</td>\n",
       "      <td>...</td>\n",
       "      <td>...</td>\n",
       "      <td>...</td>\n",
       "      <td>...</td>\n",
       "      <td>...</td>\n",
       "      <td>...</td>\n",
       "      <td>...</td>\n",
       "      <td>...</td>\n",
       "    </tr>\n",
       "    <tr>\n",
       "      <th>106</th>\n",
       "      <td>1484.0</td>\n",
       "      <td>1791.0</td>\n",
       "      <td>-9.50</td>\n",
       "      <td>0</td>\n",
       "      <td>0</td>\n",
       "      <td>0</td>\n",
       "      <td>0</td>\n",
       "      <td>1</td>\n",
       "      <td>0</td>\n",
       "      <td>0</td>\n",
       "      <td>0</td>\n",
       "      <td>0</td>\n",
       "      <td>1</td>\n",
       "    </tr>\n",
       "    <tr>\n",
       "      <th>107</th>\n",
       "      <td>1459.0</td>\n",
       "      <td>1684.0</td>\n",
       "      <td>7.00</td>\n",
       "      <td>0</td>\n",
       "      <td>0</td>\n",
       "      <td>0</td>\n",
       "      <td>0</td>\n",
       "      <td>1</td>\n",
       "      <td>0</td>\n",
       "      <td>0</td>\n",
       "      <td>0</td>\n",
       "      <td>0</td>\n",
       "      <td>0</td>\n",
       "    </tr>\n",
       "    <tr>\n",
       "      <th>108</th>\n",
       "      <td>1718.0</td>\n",
       "      <td>2079.0</td>\n",
       "      <td>14.00</td>\n",
       "      <td>0</td>\n",
       "      <td>0</td>\n",
       "      <td>0</td>\n",
       "      <td>0</td>\n",
       "      <td>1</td>\n",
       "      <td>0</td>\n",
       "      <td>0</td>\n",
       "      <td>0</td>\n",
       "      <td>0</td>\n",
       "      <td>1</td>\n",
       "    </tr>\n",
       "    <tr>\n",
       "      <th>109</th>\n",
       "      <td>1558.0</td>\n",
       "      <td>1555.0</td>\n",
       "      <td>9.00</td>\n",
       "      <td>0</td>\n",
       "      <td>0</td>\n",
       "      <td>0</td>\n",
       "      <td>0</td>\n",
       "      <td>1</td>\n",
       "      <td>0</td>\n",
       "      <td>0</td>\n",
       "      <td>0</td>\n",
       "      <td>0</td>\n",
       "      <td>0</td>\n",
       "    </tr>\n",
       "    <tr>\n",
       "      <th>110</th>\n",
       "      <td>1895.0</td>\n",
       "      <td>1955.0</td>\n",
       "      <td>-2.50</td>\n",
       "      <td>0</td>\n",
       "      <td>1</td>\n",
       "      <td>0</td>\n",
       "      <td>0</td>\n",
       "      <td>0</td>\n",
       "      <td>0</td>\n",
       "      <td>1</td>\n",
       "      <td>0</td>\n",
       "      <td>0</td>\n",
       "      <td>0</td>\n",
       "    </tr>\n",
       "  </tbody>\n",
       "</table>\n",
       "<p>111 rows × 13 columns</p>\n",
       "</div>"
      ],
      "text/plain": [
       "     home_elo  away_elo  spread  home_conference_big_12  \\\n",
       "0      1194.0    1499.0   -2.75                       1   \n",
       "1      1640.0    1238.0  -10.00                       0   \n",
       "2      1980.0    1350.0  -42.00                       0   \n",
       "3      1643.0    1804.0    3.25                       1   \n",
       "4      1635.0    1909.0    7.75                       0   \n",
       "..        ...       ...     ...                     ...   \n",
       "106    1484.0    1791.0   -9.50                       0   \n",
       "107    1459.0    1684.0    7.00                       0   \n",
       "108    1718.0    2079.0   14.00                       0   \n",
       "109    1558.0    1555.0    9.00                       0   \n",
       "110    1895.0    1955.0   -2.50                       0   \n",
       "\n",
       "     home_conference_big_ten  home_conference_other  home_conference_pac_12  \\\n",
       "0                          0                      0                       0   \n",
       "1                          0                      0                       0   \n",
       "2                          0                      0                       0   \n",
       "3                          0                      0                       0   \n",
       "4                          0                      0                       0   \n",
       "..                       ...                    ...                     ...   \n",
       "106                        0                      0                       0   \n",
       "107                        0                      0                       0   \n",
       "108                        0                      0                       0   \n",
       "109                        0                      0                       0   \n",
       "110                        1                      0                       0   \n",
       "\n",
       "     home_conference_sec  away_conference_big_12  away_conference_big_ten  \\\n",
       "0                      0                       0                        1   \n",
       "1                      0                       0                        0   \n",
       "2                      1                       0                        0   \n",
       "3                      0                       0                        0   \n",
       "4                      0                       0                        0   \n",
       "..                   ...                     ...                      ...   \n",
       "106                    1                       0                        0   \n",
       "107                    1                       0                        0   \n",
       "108                    1                       0                        0   \n",
       "109                    1                       0                        0   \n",
       "110                    0                       0                        1   \n",
       "\n",
       "     away_conference_other  away_conference_pac_12  away_conference_sec  \n",
       "0                        0                       0                    0  \n",
       "1                        0                       0                    1  \n",
       "2                        1                       0                    0  \n",
       "3                        0                       1                    0  \n",
       "4                        1                       0                    0  \n",
       "..                     ...                     ...                  ...  \n",
       "106                      0                       0                    1  \n",
       "107                      0                       0                    0  \n",
       "108                      0                       0                    1  \n",
       "109                      0                       0                    0  \n",
       "110                      0                       0                    0  \n",
       "\n",
       "[111 rows x 13 columns]"
      ]
     },
     "execution_count": 73,
     "metadata": {},
     "output_type": "execute_result"
    }
   ],
   "source": [
    "X_test"
   ]
  },
  {
   "cell_type": "code",
   "execution_count": 74,
   "metadata": {},
   "outputs": [
    {
     "data": {
      "text/plain": [
       "[]"
      ]
     },
     "execution_count": 74,
     "metadata": {},
     "output_type": "execute_result"
    }
   ],
   "source": [
    "[c for c in lgbm_reg.feature_name_ if c not in X_test.columns]"
   ]
  },
  {
   "cell_type": "code",
   "execution_count": 75,
   "metadata": {},
   "outputs": [],
   "source": [
    "y_preds = lgbm_reg.predict(X_test)"
   ]
  },
  {
   "cell_type": "code",
   "execution_count": 76,
   "metadata": {},
   "outputs": [],
   "source": [
    "y_preds = pd.Series(y_preds, name=\"preds\")"
   ]
  },
  {
   "cell_type": "code",
   "execution_count": 77,
   "metadata": {},
   "outputs": [
    {
     "data": {
      "text/plain": [
       "5506    -3\n",
       "5509   -11\n",
       "5510   -32\n",
       "5513   -30\n",
       "5516    18\n",
       "        ..\n",
       "6907   -20\n",
       "6908   -17\n",
       "6911    29\n",
       "6912   -21\n",
       "6917    -3\n",
       "Name: margin, Length: 734, dtype: int64"
      ]
     },
     "execution_count": 77,
     "metadata": {},
     "output_type": "execute_result"
    }
   ],
   "source": [
    "y_test.margin"
   ]
  },
  {
   "cell_type": "code",
   "execution_count": 78,
   "metadata": {},
   "outputs": [],
   "source": [
    "eval_df = pd.DataFrame({\"preds\": y_preds, \"actual\": y_test[\"margin\"].reset_index(drop=True)})"
   ]
  },
  {
   "cell_type": "code",
   "execution_count": 79,
   "metadata": {},
   "outputs": [],
   "source": [
    "eval_df[\"mae\"] = abs(eval_df[\"preds\"] - eval_df[\"actual\"])"
   ]
  },
  {
   "cell_type": "code",
   "execution_count": 80,
   "metadata": {},
   "outputs": [
    {
     "data": {
      "text/plain": [
       "count    111.000000\n",
       "mean      21.248527\n",
       "std       15.558188\n",
       "min        0.069578\n",
       "25%        8.358684\n",
       "50%       18.526744\n",
       "75%       29.280529\n",
       "max       68.538426\n",
       "Name: mae, dtype: float64"
      ]
     },
     "execution_count": 80,
     "metadata": {},
     "output_type": "execute_result"
    }
   ],
   "source": [
    "eval_df[\"mae\"].describe()"
   ]
  },
  {
   "attachments": {},
   "cell_type": "markdown",
   "metadata": {},
   "source": [
    "Feature Importance"
   ]
  },
  {
   "cell_type": "code",
   "execution_count": 53,
   "metadata": {},
   "outputs": [
    {
     "data": {
      "text/plain": [
       "{'home_elo': 372,\n",
       " 'away_elo': 361,\n",
       " 'spread': 301,\n",
       " 'home_conference_big_12': 8,\n",
       " 'home_conference_big_ten': 7,\n",
       " 'home_conference_other': 6,\n",
       " 'home_conference_pac_12': 4,\n",
       " 'home_conference_sec': 7,\n",
       " 'away_conference_big_12': 7,\n",
       " 'away_conference_big_ten': 11,\n",
       " 'away_conference_other': 18,\n",
       " 'away_conference_pac_12': 6,\n",
       " 'away_conference_sec': 2}"
      ]
     },
     "execution_count": 53,
     "metadata": {},
     "output_type": "execute_result"
    }
   ],
   "source": [
    "dict(zip(lgbm_reg.feature_name_, lgbm_reg.feature_importances_))"
   ]
  },
  {
   "attachments": {},
   "cell_type": "markdown",
   "metadata": {},
   "source": [
    "Pred DF"
   ]
  },
  {
   "cell_type": "code",
   "execution_count": 92,
   "metadata": {},
   "outputs": [],
   "source": [
    "if run_type == \"predict\":\n",
    "    preds_df = df[[\"id\", \"home_team\", \"away_team\"]].copy()\n",
    "    preds_df[\"predicted\"] = y_preds"
   ]
  },
  {
   "cell_type": "code",
   "execution_count": 94,
   "metadata": {},
   "outputs": [],
   "source": [
    "preds_df.columns = [\"id\", \"home\", \"away\", \"predicted\"]"
   ]
  },
  {
   "cell_type": "code",
   "execution_count": 101,
   "metadata": {},
   "outputs": [],
   "source": [
    "preds_df.to_clipboard(sep=\",\", index=False)"
   ]
  }
 ],
 "metadata": {
  "kernelspec": {
   "display_name": ".venv",
   "language": "python",
   "name": "python3"
  },
  "language_info": {
   "codemirror_mode": {
    "name": "ipython",
    "version": 3
   },
   "file_extension": ".py",
   "mimetype": "text/x-python",
   "name": "python",
   "nbconvert_exporter": "python",
   "pygments_lexer": "ipython3",
   "version": "3.11.0"
  },
  "orig_nbformat": 4
 },
 "nbformat": 4,
 "nbformat_minor": 2
}
